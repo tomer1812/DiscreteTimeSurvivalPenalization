{
 "cells": [
  {
   "cell_type": "code",
   "execution_count": null,
   "metadata": {
    "pycharm": {
     "name": "#%%\n"
    }
   },
   "outputs": [],
   "source": [
    "import pandas as pd\n",
    "import numpy as np\n",
    "import os\n",
    "from time import time\n",
    "from sklearn.model_selection import train_test_split\n",
    "from pydts.examples_utils.generate_simulations_data import generate_quick_start_df\n",
    "from pydts.examples_utils.plots import plot_example_pred_output\n",
    "from pydts.examples_utils.plots import add_panel_text\n",
    "from pydts.fitters import TwoStagesFitter, DataExpansionFitter\n",
    "\n",
    "from pydts.data_generation import EventTimesSampler\n",
    "from matplotlib import pyplot as plt\n",
    "import warnings\n",
    "import pickle\n",
    "pd.set_option(\"display.max_rows\", 500)\n",
    "warnings.filterwarnings('ignore')\n",
    "%matplotlib inline\n",
    "slicer = pd.IndexSlice"
   ]
  },
  {
   "cell_type": "code",
   "execution_count": null,
   "metadata": {
    "pycharm": {
     "name": "#%%\n"
    }
   },
   "outputs": [],
   "source": [
    "OUTPUT_DIR = '/app/output/'"
   ]
  },
  {
   "cell_type": "markdown",
   "metadata": {
    "pycharm": {
     "name": "#%% md\n"
    }
   },
   "source": [
    "# Sampling data"
   ]
  },
  {
   "cell_type": "code",
   "execution_count": null,
   "metadata": {
    "pycharm": {
     "name": "#%%\n"
    }
   },
   "outputs": [],
   "source": [
    "real_coef_dict = {\n",
    "    \"alpha\": {\n",
    "        1: lambda t: -11.5 + 2.5 * np.log(t),\n",
    "        2: lambda t: -10.5 + 2 * np.log(t)\n",
    "    },\n",
    "    \"beta\": {\n",
    "        1: [1.3, 1.7, -1.5, 0.5, 1.6],\n",
    "        2: [-1.5, 1.5, 1.8, -1, 1.2]\n",
    "    }\n",
    "}\n",
    "\n",
    "n_patients = 50000\n",
    "n_cov = 5\n",
    "d_times = 60\n",
    "j_events = 2\n",
    "\n",
    "ets = EventTimesSampler(d_times=d_times, j_event_types=j_events)\n",
    "\n",
    "seed = 0\n",
    "means_vector = np.zeros(n_cov)\n",
    "covariance_matrix = np.identity(n_cov)\n",
    "\n",
    "\n",
    "covariates = [f'Z{i + 1}' for i in range(n_cov)]"
   ]
  },
  {
   "cell_type": "code",
   "execution_count": null,
   "metadata": {
    "pycharm": {
     "name": "#%%\n"
    }
   },
   "outputs": [],
   "source": [
    "COEF_COL = '   coef   '\n",
    "STDERR_COL = ' std err '"
   ]
  },
  {
   "cell_type": "code",
   "execution_count": null,
   "metadata": {
    "pycharm": {
     "name": "#%%\n"
    }
   },
   "outputs": [],
   "source": [
    "patients_df = pd.DataFrame(data=np.random.multivariate_normal(means_vector, covariance_matrix, size=n_patients),\n",
    "                        columns=covariates)\n",
    "\n",
    "patients_df = ets.sample_event_times(patients_df, hazard_coefs=real_coef_dict, seed=seed)\n",
    "patients_df = ets.sample_independent_lof_censoring(patients_df, prob_los_at_t=0.002*np.ones_like(ets.times), seed=seed+1)\n",
    "patients_df = ets.update_event_or_lof(patients_df)\n",
    "patients_df.index.name='pid'\n",
    "patients_df = patients_df.reset_index()\n",
    "\n",
    "from pydts.examples_utils.plots import plot_events_occurrence\n",
    "plot_events_occurrence(patients_df)"
   ]
  },
  {
   "cell_type": "code",
   "execution_count": null,
   "metadata": {
    "pycharm": {
     "name": "#%%\n"
    }
   },
   "outputs": [],
   "source": [
    "for n_patients in [10_000]: # 5_000, 20_000, 50_000, 100_000\n",
    "    case = f'Sample_size_{n_patients}'\n",
    "    k_runs = 3\n",
    "    two_step_fit_times = []\n",
    "    lee_fit_times = []\n",
    "\n",
    "    for k in range(k_runs):\n",
    "        try:\n",
    "            # Sampling based on different seed each time\n",
    "            np.random.seed(seed+k)\n",
    "            patients_df = pd.DataFrame(data=np.random.multivariate_normal(means_vector, covariance_matrix, size=n_patients),\n",
    "                                    columns=covariates)\n",
    "\n",
    "            patients_df = ets.sample_event_times(patients_df, hazard_coefs=real_coef_dict, seed=seed)\n",
    "            patients_df = ets.sample_independent_lof_censoring(patients_df, prob_los_at_t=0.01*np.ones_like(ets.times), seed=seed+1)\n",
    "            patients_df = ets.update_event_or_lof(patients_df)\n",
    "            patients_df.index.name='pid'\n",
    "            patients_df = patients_df.reset_index()\n",
    "\n",
    "            # Two step fitter\n",
    "            new_fitter = TwoStagesFitter()\n",
    "            print(case)\n",
    "            print(f'Starting two-step: {k}')\n",
    "            two_step_start = time()\n",
    "            new_fitter.fit(df=patients_df.drop(['C', 'T'], axis=1))\n",
    "            two_step_end = time()\n",
    "            print(f'Finished two-step: {k}, {two_step_end-two_step_start}sec')\n",
    "\n",
    "\n",
    "            # Lee et al fitter\n",
    "            lee_fitter = DataExpansionFitter()\n",
    "            print(f'Starting Lee: {k}')\n",
    "            lee_start = time()\n",
    "            lee_fitter.fit(df=patients_df.drop(['C', 'T'], axis=1))\n",
    "            lee_end = time()\n",
    "            print(f'Finished lee: {k}, {lee_end-lee_start}sec')\n",
    "\n",
    "\n",
    "            lee_alpha_ser = lee_fitter.get_alpha_df().loc[:, slicer[:, [COEF_COL, STDERR_COL] ]].unstack().sort_index()\n",
    "            lee_beta_ser = lee_fitter.get_beta_SE().loc[:, slicer[:, [COEF_COL, STDERR_COL] ]].unstack().sort_index()\n",
    "\n",
    "\n",
    "            # Save results only if both fitters were successful\n",
    "            two_step_fit_times.append(two_step_end - two_step_start)\n",
    "            lee_fit_times.append(lee_end-lee_start)\n",
    "\n",
    "\n",
    "            if k == 0:\n",
    "                two_step_alpha_k_results = new_fitter.alpha_df[['J', 'X', 'alpha_jt']]\n",
    "                two_step_beta_k_results = new_fitter.get_beta_SE().unstack().to_frame()\n",
    "\n",
    "                lee_alpha_k_results = lee_alpha_ser.to_frame()\n",
    "                lee_beta_k_results = lee_beta_ser.to_frame()\n",
    "\n",
    "            else:\n",
    "                two_step_alpha_k_results = pd.concat([two_step_alpha_k_results, new_fitter.alpha_df['alpha_jt']], axis=1)\n",
    "                two_step_beta_k_results = pd.concat([two_step_beta_k_results, new_fitter.get_beta_SE().unstack()], axis=1)\n",
    "\n",
    "                lee_alpha_k_results = pd.concat([lee_alpha_k_results, lee_alpha_ser], axis=1)\n",
    "                lee_beta_k_results = pd.concat([lee_beta_k_results, lee_beta_ser], axis=1)\n",
    "\n",
    "            # Cache results\n",
    "            two_step_alpha_k_results.to_csv(os.path.join(OUTPUT_DIR, f'two_step_alpha_run_{k_runs}.csv'))\n",
    "            two_step_beta_k_results.to_csv(os.path.join(OUTPUT_DIR, f'two_step_beta_run_{k_runs}.csv'))\n",
    "            lee_alpha_k_results.to_csv(os.path.join(OUTPUT_DIR, f'lee_alpha_run_{k_runs}.csv'))\n",
    "            lee_beta_k_results.to_csv(os.path.join(OUTPUT_DIR, f'lee_beta_run_{k_runs}.csv'))\n",
    "            \n",
    "            with open(os.path.join(OUTPUT_DIR, f\"two_step_fit_times_{k_runs}\"), \"wb\") as fp: \n",
    "                pickle.dump(two_step_fit_times, fp)\n",
    "\n",
    "            with open(os.path.join(OUTPUT_DIR, f\"lee_fit_times_{k_runs}\"), \"wb\") as fp:   \n",
    "                pickle.dump(lee_fit_times, fp)\n",
    "\n",
    "        except Exception as e:\n",
    "            print(f'Failed during trial {k}')\n",
    "            print(e)\n",
    "            \n",
    "\n",
    "    two_step_alpha_k_results = two_step_alpha_k_results.set_index(['J', 'X'])\n",
    "    two_step_alpha_k_results.columns = list(range(1, 1+k_runs))\n",
    "    two_step_beta_k_results.columns = list(range(1, 1+k_runs))\n",
    "    lee_alpha_k_results.columns = list(range(1, 1+k_runs))\n",
    "    lee_beta_k_results.columns = list(range(1, 1+k_runs))\n",
    "\n",
    "\n",
    "    # Save results\n",
    "    two_step_alpha_k_results.to_csv(os.path.join(OUTPUT_DIR, f'{case}_two_step_alpha_run_{k_runs}.csv'))\n",
    "    two_step_beta_k_results.to_csv(os.path.join(OUTPUT_DIR, f'{case}_two_step_beta_run_{k_runs}.csv'))\n",
    "    lee_alpha_k_results.to_csv(os.path.join(OUTPUT_DIR, f'{case}_lee_alpha_run_{k_runs}.csv'))\n",
    "    lee_beta_k_results.to_csv(os.path.join(OUTPUT_DIR, f'{case}_lee_beta_run_{k_runs}.csv'))\n",
    "\n",
    "    with open(os.path.join(OUTPUT_DIR, f\"{case}_two_step_fit_times_{k_runs}\"), \"wb\") as fp: \n",
    "        pickle.dump(two_step_fit_times, fp)\n",
    "\n",
    "    with open(os.path.join(OUTPUT_DIR, f\"{case}_lee_fit_times_{k_runs}\"), \"wb\") as fp:   \n",
    "        pickle.dump(lee_fit_times, fp)"
   ]
  },
  {
   "cell_type": "code",
   "execution_count": null,
   "metadata": {
    "pycharm": {
     "name": "#%%\n"
    }
   },
   "outputs": [],
   "source": [
    "with open(os.path.join(OUTPUT_DIR, f\"{case}_two_step_fit_times_{k_runs}\"), \"rb\") as fp: \n",
    "    two_step_fit_times = pickle.load(fp)\n",
    "\n",
    "with open(os.path.join(OUTPUT_DIR, f\"{case}_lee_fit_times_{k_runs}\"), \"rb\") as fp:   \n",
    "    lee_fit_times = pickle.load(fp)"
   ]
  },
  {
   "cell_type": "markdown",
   "metadata": {
    "pycharm": {
     "name": "#%% md\n"
    }
   },
   "source": [
    "# L1 Regularization"
   ]
  },
  {
   "cell_type": "code",
   "execution_count": null,
   "metadata": {
    "pycharm": {
     "name": "#%%\n"
    }
   },
   "outputs": [],
   "source": [
    "real_coef_dict = {\n",
    "    \"alpha\": {\n",
    "        1: lambda t: -9.5 + 2.5 * np.log(t),\n",
    "        2: lambda t: -6.5 + 1.5 * np.log(t)\n",
    "    },\n",
    "    \"beta\": {\n",
    "        1: [1.3, 1.7, -1.5, 0.5, 1.6],\n",
    "        2: [-1.5, 1.5, 1.8, -1, 1.2]\n",
    "    }\n",
    "}\n",
    "\n",
    "n_patients = 20000\n",
    "n_cov = 5\n",
    "d_times = 30\n",
    "j_events = 2\n",
    "\n",
    "ets = EventTimesSampler(d_times=d_times, j_event_types=j_events)\n",
    "\n",
    "seed = 0\n",
    "means_vector = np.zeros(n_cov)\n",
    "covariance_matrix = np.identity(n_cov)\n",
    "\n",
    "\n",
    "covariates = [f'Z{i + 1}' for i in range(n_cov)]"
   ]
  },
  {
   "cell_type": "code",
   "execution_count": null,
   "metadata": {
    "pycharm": {
     "name": "#%%\n"
    }
   },
   "outputs": [],
   "source": [
    "patients_df = pd.DataFrame(data=np.random.multivariate_normal(means_vector, covariance_matrix, size=n_patients),\n",
    "                        columns=covariates)\n",
    "\n",
    "patients_df = ets.sample_event_times(patients_df, hazard_coefs=real_coef_dict, seed=seed)\n",
    "patients_df = ets.sample_independent_lof_censoring(patients_df, prob_los_at_t=0.002*np.ones_like(ets.times), seed=seed+1)\n",
    "patients_df = ets.update_event_or_lof(patients_df)\n",
    "patients_df.index.name='pid'\n",
    "patients_df = patients_df.reset_index()\n",
    "\n",
    "from pydts.examples_utils.plots import plot_events_occurrence\n",
    "plot_events_occurrence(patients_df)"
   ]
  },
  {
   "cell_type": "code",
   "execution_count": null,
   "metadata": {
    "pycharm": {
     "name": "#%%\n"
    }
   },
   "outputs": [],
   "source": [
    "train_test_split to decide the value of the penalizer\n",
    "mse"
   ]
  },
  {
   "cell_type": "code",
   "execution_count": null,
   "metadata": {
    "pycharm": {
     "name": "#%%\n"
    }
   },
   "outputs": [],
   "source": [
    "for penalizer in [0.0005, 0.005, 0.01, 0.05]:\n",
    "\n",
    "    L1_regularized_fitter = TwoStagesFitter()\n",
    "\n",
    "    fit_beta_kwargs = {\n",
    "        'model_kwargs': {\n",
    "            'penalizer': penalizer,\n",
    "            'l1_ratio': 1\n",
    "        }\n",
    "    }\n",
    "\n",
    "    L1_regularized_fitter.fit(df=patients_df.drop(['C', 'T'], axis=1), fit_beta_kwargs=fit_beta_kwargs)\n",
    "\n",
    "    print('**********************************************')\n",
    "    print(f'Penalizer {penalizer}')\n",
    "    print(L1_regularized_fitter.get_beta_SE())\n",
    "    print('**********************************************')\n"
   ]
  },
  {
   "cell_type": "markdown",
   "metadata": {
    "pycharm": {
     "name": "#%% md\n"
    }
   },
   "source": [
    "# Large number of covariates"
   ]
  },
  {
   "cell_type": "code",
   "execution_count": null,
   "metadata": {
    "pycharm": {
     "name": "#%%\n"
    }
   },
   "outputs": [],
   "source": []
  },
  {
   "cell_type": "code",
   "execution_count": null,
   "metadata": {
    "pycharm": {
     "name": "#%%\n"
    }
   },
   "outputs": [],
   "source": [
    "n_patients = 30000\n",
    "n_cov = 100\n",
    "beta_j1 = np.zeros(100)\n",
    "beta_j1[:5] = -np.log([0.8, 3, 3, 2.5, 2])\n",
    "\n",
    "beta_j2 = np.zeros(100)\n",
    "beta_j2[:5] = -np.log([2, 3, 4, 3, 2])\n",
    "\n",
    "real_coef_dict = {\n",
    "    \"alpha\": {\n",
    "        1: lambda t: -0.25 - 0.3 * np.log(t),\n",
    "        2: lambda t: -0.75 - 0.15 * np.log(t)\n",
    "    },\n",
    "    \"beta\": {\n",
    "        1: beta_j1,\n",
    "        2: beta_j2\n",
    "    }\n",
    "}\n",
    "\n",
    "ets = EventTimesSampler(d_times=14, j_event_types=2)\n",
    "\n",
    "seed = 0\n",
    "covariates = [f'Z{i + 1}' for i in range(n_cov)]\n",
    "patients_df = pd.DataFrame(data=np.random.uniform(low=0.0, high=1.0, size=[n_patients, n_cov]),\n",
    "                            columns=covariates)\n",
    "\n",
    "\n",
    "\n",
    "patients_df = ets.sample_event_times(patients_df, hazard_coefs=real_coef_dict, seed=seed)\n",
    "patients_df = ets.sample_independent_lof_censoring(patients_df, prob_los_at_t=0.01*np.ones_like(ets.times), seed=seed+1)\n",
    "patients_df = ets.update_event_or_lof(patients_df)\n",
    "patients_df.index.name='pid'\n",
    "patients_df = patients_df.reset_index()\n",
    "patients_df"
   ]
  },
  {
   "cell_type": "code",
   "execution_count": null,
   "metadata": {
    "pycharm": {
     "name": "#%%\n"
    }
   },
   "outputs": [],
   "source": [
    "patients_df['J'].value_counts()"
   ]
  },
  {
   "cell_type": "code",
   "execution_count": null,
   "metadata": {
    "pycharm": {
     "name": "#%%\n"
    }
   },
   "outputs": [],
   "source": [
    "for penalizer in [0.0, 0.001, 0.005]:\n",
    "\n",
    "    L1_regularized_fitter = TwoStagesFitter()\n",
    "\n",
    "    fit_beta_kwargs = {\n",
    "        'model_kwargs': {\n",
    "            'penalizer': penalizer,\n",
    "            'l1_ratio': 1\n",
    "        }\n",
    "    }\n",
    "\n",
    "    L1_regularized_fitter.fit(df=patients_df.drop(['C', 'T'], axis=1), fit_beta_kwargs=fit_beta_kwargs)\n",
    "\n",
    "    print('**********************************************')\n",
    "    print(f'Penalizer {penalizer}')\n",
    "    print(L1_regularized_fitter.get_beta_SE())\n",
    "    print('**********************************************')"
   ]
  },
  {
   "cell_type": "code",
   "execution_count": null,
   "metadata": {
    "pycharm": {
     "name": "#%%\n"
    }
   },
   "outputs": [],
   "source": []
  },
  {
   "cell_type": "code",
   "execution_count": null,
   "metadata": {
    "pycharm": {
     "name": "#%%\n"
    }
   },
   "outputs": [],
   "source": []
  },
  {
   "cell_type": "code",
   "execution_count": null,
   "metadata": {
    "pycharm": {
     "name": "#%%\n"
    }
   },
   "outputs": [],
   "source": []
  },
  {
   "cell_type": "code",
   "execution_count": null,
   "metadata": {
    "pycharm": {
     "name": "#%%\n"
    }
   },
   "outputs": [],
   "source": []
  },
  {
   "cell_type": "code",
   "execution_count": null,
   "metadata": {
    "pycharm": {
     "name": "#%%\n"
    }
   },
   "outputs": [],
   "source": []
  },
  {
   "cell_type": "code",
   "execution_count": null,
   "metadata": {
    "pycharm": {
     "name": "#%%\n"
    }
   },
   "outputs": [],
   "source": []
  },
  {
   "cell_type": "code",
   "execution_count": null,
   "metadata": {
    "pycharm": {
     "name": "#%%\n"
    }
   },
   "outputs": [],
   "source": []
  },
  {
   "cell_type": "markdown",
   "metadata": {
    "pycharm": {
     "name": "#%% md\n"
    }
   },
   "source": [
    "# L2 Regularization"
   ]
  },
  {
   "cell_type": "code",
   "execution_count": null,
   "metadata": {
    "pycharm": {
     "name": "#%%\n"
    }
   },
   "outputs": [],
   "source": [
    "L2_regularized_fitter = TwoStagesFitter()\n",
    "\n",
    "fit_beta_kwargs = {\n",
    "    'model_kwargs': {\n",
    "        'penalizer': 0.003,\n",
    "        'l1_ratio': 0\n",
    "    }\n",
    "}\n",
    "\n",
    "L2_regularized_fitter.fit(df=patients_df.drop(['C', 'T'], axis=1), fit_beta_kwargs=fit_beta_kwargs)\n",
    "\n",
    "L2_regularized_fitter.get_beta_SE()"
   ]
  },
  {
   "cell_type": "markdown",
   "metadata": {
    "pycharm": {
     "name": "#%% md\n"
    }
   },
   "source": [
    "# EN regularization"
   ]
  },
  {
   "cell_type": "code",
   "execution_count": null,
   "metadata": {
    "pycharm": {
     "name": "#%%\n"
    }
   },
   "outputs": [],
   "source": [
    "EN_regularized_fitter = TwoStagesFitter()\n",
    "\n",
    "fit_beta_kwargs = {\n",
    "    'model_kwargs': {\n",
    "        'penalizer': 0.003,\n",
    "        'l1_ratio': 0.5\n",
    "    }\n",
    "}\n",
    "\n",
    "EN_regularized_fitter.fit(df=patients_df.drop(['C', 'T'], axis=1), fit_beta_kwargs=fit_beta_kwargs)\n",
    "\n",
    "EN_regularized_fitter.get_beta_SE()"
   ]
  },
  {
   "cell_type": "code",
   "execution_count": null,
   "metadata": {
    "pycharm": {
     "name": "#%%\n"
    }
   },
   "outputs": [],
   "source": []
  }
 ],
 "metadata": {
  "kernelspec": {
   "display_name": "Python 3.10.6 64-bit",
   "language": "python",
   "name": "python3"
  },
  "language_info": {
   "codemirror_mode": {
    "name": "ipython",
    "version": 3
   },
   "file_extension": ".py",
   "mimetype": "text/x-python",
   "name": "python",
   "nbconvert_exporter": "python",
   "pygments_lexer": "ipython3",
   "version": "3.10.6"
  },
  "orig_nbformat": 4,
  "vscode": {
   "interpreter": {
    "hash": "31f2aee4e71d21fbe5cf8b01ff0e069b9275f58929596ceb00d14d90e3e16cd6"
   }
  }
 },
 "nbformat": 4,
 "nbformat_minor": 2
}