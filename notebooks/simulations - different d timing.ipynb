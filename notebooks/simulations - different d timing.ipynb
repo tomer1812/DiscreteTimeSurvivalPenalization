{
 "cells": [
  {
   "cell_type": "code",
   "execution_count": null,
   "metadata": {
    "pycharm": {
     "name": "#%%\n"
    }
   },
   "outputs": [],
   "source": [
    "import pandas as pd\n",
    "import numpy as np\n",
    "import os\n",
    "from time import time\n",
    "from sklearn.model_selection import train_test_split\n",
    "from pydts.examples_utils.generate_simulations_data import generate_quick_start_df\n",
    "from pydts.examples_utils.plots import plot_example_pred_output\n",
    "from pydts.examples_utils.plots import add_panel_text\n",
    "from pydts.fitters import TwoStagesFitter, DataExpansionFitter\n",
    "\n",
    "from pydts.data_generation import EventTimesSampler\n",
    "from matplotlib import pyplot as plt\n",
    "import warnings\n",
    "import pickle\n",
    "pd.set_option(\"display.max_rows\", 500)\n",
    "warnings.filterwarnings('ignore')\n",
    "%matplotlib inline\n",
    "slicer = pd.IndexSlice"
   ]
  },
  {
   "cell_type": "code",
   "execution_count": null,
   "metadata": {
    "pycharm": {
     "name": "#%%\n"
    }
   },
   "outputs": [],
   "source": [
    "OUTPUT_DIR = '/home/tomer.me/DiscreteTimeSurvivalPenalization/output/'"
   ]
  },
  {
   "cell_type": "code",
   "execution_count": null,
   "metadata": {
    "pycharm": {
     "name": "#%%\n"
    }
   },
   "outputs": [],
   "source": [
    "real_coef_dict = {\n",
    "    \"alpha\": {\n",
    "        1: lambda t: -2.5 - 0.3 * np.log(t),\n",
    "        2: lambda t: -2.8 - 0.3 * np.log(t)\n",
    "    },\n",
    "    \"beta\": {\n",
    "        1: -0.5*np.log([0.8, 3, 3, 2.5, 4, 1, 3, 2, 2, 3]),\n",
    "        2: -0.5*np.log([1, 3, 2, 1, 4, 3, 4, 3, 3, 2])\n",
    "    }\n",
    "}\n",
    "\n",
    "n_patients = 20000\n",
    "n_cov = 10\n",
    "j_events = 2\n",
    "\n",
    "d_times = 150\n",
    "ets = EventTimesSampler(d_times=d_times, j_event_types=j_events)\n",
    "\n",
    "seed = 0\n",
    "\n",
    "covariates = [f'Z{i}' for i in range(n_cov)]\n",
    "\n",
    "COEF_COL = '   coef   '\n",
    "STDERR_COL = ' std err '"
   ]
  },
  {
   "cell_type": "code",
   "execution_count": null,
   "metadata": {
    "pycharm": {
     "name": "#%%\n"
    }
   },
   "outputs": [],
   "source": [
    "patients_df = pd.DataFrame(data=pd.DataFrame(data=np.random.uniform(0,1, size=[n_patients, n_cov]),\n",
    "                           columns=covariates))\n",
    "                           \n",
    "patients_df = ets.sample_event_times(patients_df, hazard_coefs=real_coef_dict, seed=seed)\n",
    "patients_df['X'] = patients_df['T']\n",
    "patients_df['C'] = patients_df['T']\n",
    "\n",
    "patients_df.index.name='pid'                 \n",
    "patients_df = patients_df.reset_index()\n",
    "\n",
    "from pydts.examples_utils.plots import plot_events_occurrence\n",
    "plot_events_occurrence(patients_df[patients_df['X'] != (d_times+1)])\n",
    "plot_events_occurrence(patients_df)"
   ]
  },
  {
   "cell_type": "code",
   "execution_count": null,
   "metadata": {
    "pycharm": {
     "name": "#%%\n"
    }
   },
   "outputs": [],
   "source": [
    "k_runs = 10\n",
    "d_times_list = [25, 50, 75, 100, 125, 150] "
   ]
  },
  {
   "cell_type": "code",
   "execution_count": null,
   "metadata": {
    "scrolled": false,
    "pycharm": {
     "name": "#%%\n"
    }
   },
   "outputs": [],
   "source": [
    "final_two_step = {}\n",
    "final_lee = {}\n",
    "\n",
    "for idp, d_times in enumerate(d_times_list):\n",
    "    #print('**************************************')\n",
    "    case = f'timing_d{d_times}_final_'\n",
    "    two_step_timing = []\n",
    "    lee_timing = []\n",
    "    for k in range(k_runs):\n",
    "        try:\n",
    "            # Sampling based on different seed each time\n",
    "            loop_seed = 1000*idp+k+seed\n",
    "            print(f'Sampling Patients, loop seed: {loop_seed}')\n",
    "            np.random.seed(loop_seed)\n",
    "            ets = EventTimesSampler(d_times=d_times, j_event_types=j_events)\n",
    "            patients_df = pd.DataFrame(data=pd.DataFrame(data=np.random.uniform(0,1, size=[n_patients, n_cov]),\n",
    "                                       columns=covariates))\n",
    "            \n",
    "            patients_df = ets.sample_event_times(patients_df, hazard_coefs=real_coef_dict, seed=loop_seed)\n",
    "            patients_df['X'] = patients_df['T']\n",
    "            patients_df['C'] = patients_df['T'] + 1\n",
    "            patients_df.index.name='pid'\n",
    "            patients_df = patients_df.reset_index()\n",
    "\n",
    "            # Two step fitter\n",
    "            new_fitter = TwoStagesFitter()\n",
    "            print(case)\n",
    "            print(f'Starting two-step: {k+1}/{k_runs}')\n",
    "            two_step_start = time()\n",
    "            new_fitter.fit(df=patients_df.drop(['C', 'T'], axis=1), nb_workers=1)\n",
    "            two_step_end = time()\n",
    "            print(f'Finished two-step: {k+1}/{k_runs}, {two_step_end-two_step_start}sec')\n",
    "\n",
    "            two_step_timing.append(two_step_end-two_step_start)\n",
    "            \n",
    "            # Lee et al fitter\n",
    "            lee_fitter = DataExpansionFitter()\n",
    "            print(f'Starting Lee: {k+1}/{k_runs}')\n",
    "            lee_start = time()\n",
    "            lee_fitter.fit(df=patients_df.drop(['C', 'T'], axis=1))\n",
    "            lee_end = time()\n",
    "            print(f'Finished lee: {k+1}/{k_runs}, {lee_end-lee_start}sec')\n",
    "\n",
    "            lee_timing.append(lee_end-lee_start) \n",
    "\n",
    "            lee_alpha_ser = lee_fitter.get_alpha_df().loc[:, slicer[:, [COEF_COL, STDERR_COL] ]].unstack().sort_index()\n",
    "            lee_beta_ser = lee_fitter.get_beta_SE().loc[:, slicer[:, [COEF_COL, STDERR_COL] ]].unstack().sort_index()\n",
    "\n",
    "            if k == 0:\n",
    "                two_step_alpha_k_results = new_fitter.alpha_df[['J', 'X', 'alpha_jt']]\n",
    "                two_step_beta_k_results = new_fitter.get_beta_SE().unstack().to_frame()\n",
    "\n",
    "                lee_alpha_k_results = lee_alpha_ser.to_frame()\n",
    "                lee_beta_k_results = lee_beta_ser.to_frame()\n",
    "\n",
    "            else:\n",
    "                two_step_alpha_k_results = pd.concat([two_step_alpha_k_results, new_fitter.alpha_df['alpha_jt']], axis=1)\n",
    "                two_step_beta_k_results = pd.concat([two_step_beta_k_results, new_fitter.get_beta_SE().unstack()], axis=1)\n",
    "\n",
    "                lee_alpha_k_results = pd.concat([lee_alpha_k_results, lee_alpha_ser], axis=1)\n",
    "                lee_beta_k_results = pd.concat([lee_beta_k_results, lee_beta_ser], axis=1)\n",
    "\n",
    "            # Cache results\n",
    "            two_step_alpha_k_results.to_csv(os.path.join(OUTPUT_DIR, f'{case}_two_step_alpha_run_{k_runs}.csv'))\n",
    "            two_step_beta_k_results.to_csv(os.path.join(OUTPUT_DIR, f'{case}_two_step_beta_run_{k_runs}.csv'))\n",
    "            lee_alpha_k_results.to_csv(os.path.join(OUTPUT_DIR, f'{case}_lee_alpha_run_{k_runs}.csv'))\n",
    "            lee_beta_k_results.to_csv(os.path.join(OUTPUT_DIR, f'{case}_lee_beta_run_{k_runs}.csv'))\n",
    "\n",
    "        except Exception as e:\n",
    "            print(f'Failed during trial {k}')\n",
    "            print(e)\n",
    "            \n",
    "\n",
    "    two_step_alpha_k_results = two_step_alpha_k_results.set_index(['J', 'X'])\n",
    "    two_step_alpha_k_results.columns = list(range(1, 1+k_runs))\n",
    "    two_step_beta_k_results.columns = list(range(1, 1+k_runs))\n",
    "    lee_alpha_k_results.columns = list(range(1, 1+k_runs))\n",
    "    lee_beta_k_results.columns = list(range(1, 1+k_runs))\n",
    "\n",
    "\n",
    "    # Save results\n",
    "    two_step_alpha_k_results.to_csv(os.path.join(OUTPUT_DIR, f'{case}_two_step_alpha_run_{k_runs}.csv'))\n",
    "    two_step_beta_k_results.to_csv(os.path.join(OUTPUT_DIR, f'{case}_two_step_beta_run_{k_runs}.csv'))\n",
    "    lee_alpha_k_results.to_csv(os.path.join(OUTPUT_DIR, f'{case}_lee_alpha_run_{k_runs}.csv'))\n",
    "    lee_beta_k_results.to_csv(os.path.join(OUTPUT_DIR, f'{case}_lee_beta_run_{k_runs}.csv'))\n",
    "    \n",
    "    final_two_step[d_times] = two_step_timing\n",
    "    final_lee[d_times] = lee_timing\n",
    "    \n",
    "    with open(os.path.join(OUTPUT_DIR, 'final_timing_two_step.pkl'), 'wb') as f:\n",
    "        pickle.dump(final_two_step, f)\n",
    "\n",
    "    with open(os.path.join(OUTPUT_DIR, 'final_timing_lee.pkl'), 'wb') as f:\n",
    "        pickle.dump(final_lee, f)"
   ]
  },
  {
   "cell_type": "code",
   "execution_count": null,
   "metadata": {
    "pycharm": {
     "name": "#%%\n"
    }
   },
   "outputs": [],
   "source": [
    "final_two_step"
   ]
  },
  {
   "cell_type": "code",
   "execution_count": null,
   "metadata": {
    "pycharm": {
     "name": "#%%\n"
    }
   },
   "outputs": [],
   "source": [
    "final_lee"
   ]
  },
  {
   "cell_type": "code",
   "execution_count": null,
   "metadata": {
    "pycharm": {
     "name": "#%%\n"
    }
   },
   "outputs": [],
   "source": [
    "summary_df = pd.DataFrame(index=d_times_list, columns=['Lee mean', 'Lee std', \n",
    "                                                       'two-step mean', 'two-step std'])\n",
    "lee_results_df = pd.DataFrame(columns=d_times_list, index=range(1,k_runs+1))\n",
    "two_step_results_df = pd.DataFrame(columns=d_times_list, index=range(1,k_runs+1))\n",
    "\n",
    "for idk, k in enumerate(d_times_list):\n",
    "    summary_df.loc[k, 'Lee mean'] = np.mean(final_lee[k])\n",
    "    summary_df.loc[k, 'Lee std'] = np.std(final_lee[k])\n",
    "    summary_df.loc[k, 'two-step mean'] = np.mean(final_two_step[k])\n",
    "    summary_df.loc[k, 'two-step std'] = np.std(final_two_step[k])\n",
    "    \n",
    "    lee_results_df.loc[:, k] = final_lee[k]\n",
    "    two_step_results_df.loc[:, k] = final_two_step[k]\n",
    "    \n",
    "summary_df['ratio'] = summary_df['Lee mean'] / summary_df['two-step mean']\n",
    "summary_df"
   ]
  },
  {
   "cell_type": "code",
   "execution_count": null,
   "metadata": {
    "pycharm": {
     "name": "#%%\n"
    }
   },
   "outputs": [],
   "source": [
    "filename = 'fitting_time_comparison.png'\n",
    "\n",
    "fig, ax = plt.subplots(1, 1, figsize=(6,4))\n",
    "ax.set_title('n=20000, p=10', fontsize=16)\n",
    "flierprops = dict(marker='.', markersize=4)\n",
    "lee_boxprops = dict(color='darkgreen')\n",
    "lee_medianprops = dict(color='darkgreen')\n",
    "two_step_boxprops = dict(color='navy')\n",
    "two_step_medianprops = dict(color='navy')\n",
    "\n",
    "ax.boxplot(lee_results_df, vert=True, positions=lee_results_df.columns, whis=1.5, flierprops=flierprops,\n",
    "           widths=8, boxprops=lee_boxprops, medianprops=lee_medianprops)\n",
    "ax.boxplot(two_step_results_df, vert=True, positions=two_step_results_df.columns, whis=1.5, flierprops=flierprops,\n",
    "           widths=8, boxprops=two_step_boxprops, medianprops=two_step_medianprops)\n",
    "ax.set_xlabel('Number of Discrete Times', fontsize=16)\n",
    "ax.set_ylabel('Fitting Time [seconds]', fontsize=16)\n",
    "ax.set_xticks(d_times_list)\n",
    "ax.set_xticklabels(d_times_list)\n",
    "ax.tick_params(axis='both', which='major', labelsize=14)\n",
    "ax.tick_params(axis='both', which='minor', labelsize=14)\n",
    "ax.set_xlim([20,155])\n",
    "# ax.legend()\n",
    "leg = ax.legend(['Lee et al.', 'two-step'], handlelength=0, handletextpad=0)\n",
    "color_l = ['darkgreen', 'navy']\n",
    "for n, text in enumerate( leg.texts ):\n",
    "    text.set_color( color_l[n] )\n",
    "\n",
    "    ax.grid(alpha=0.5)\n",
    "\n",
    "fig.tight_layout()\n",
    "if filename is not None:\n",
    "    fig.savefig(os.path.join(OUTPUT_DIR, filename), dpi=300)"
   ]
  },
  {
   "cell_type": "code",
   "execution_count": null,
   "metadata": {
    "pycharm": {
     "name": "#%%\n"
    }
   },
   "outputs": [],
   "source": []
  }
 ],
 "metadata": {
  "kernelspec": {
   "display_name": "py39-dtsp",
   "language": "python",
   "name": "py39-dtsp"
  },
  "language_info": {
   "codemirror_mode": {
    "name": "ipython",
    "version": 3
   },
   "file_extension": ".py",
   "mimetype": "text/x-python",
   "name": "python",
   "nbconvert_exporter": "python",
   "pygments_lexer": "ipython3",
   "version": "3.9.15"
  },
  "vscode": {
   "interpreter": {
    "hash": "31f2aee4e71d21fbe5cf8b01ff0e069b9275f58929596ceb00d14d90e3e16cd6"
   }
  }
 },
 "nbformat": 4,
 "nbformat_minor": 2
}
