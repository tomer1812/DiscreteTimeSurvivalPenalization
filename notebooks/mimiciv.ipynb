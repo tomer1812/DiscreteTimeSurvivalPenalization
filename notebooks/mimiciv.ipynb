{
 "cells": [
  {
   "cell_type": "code",
   "execution_count": null,
   "metadata": {
    "pycharm": {
     "name": "#%%\n"
    }
   },
   "outputs": [],
   "source": [
    "import pandas as pd\n",
    "import sys \n",
    "from matplotlib import pyplot as plt\n",
    "import os\n",
    "%matplotlib inline\n",
    "sys.path.append('../')\n",
    "from src.plots import add_panel_text\n",
    "import numpy as np\n",
    "\n",
    "from src.constants import *\n",
    "OUTPUT_DIR = '/app/output'\n",
    "DATA_DIR = '/app/data/mimic-iv-2.0/'"
   ]
  },
  {
   "cell_type": "markdown",
   "metadata": {
    "pycharm": {
     "name": "#%% md\n"
    }
   },
   "source": [
    "# Load Data"
   ]
  },
  {
   "cell_type": "code",
   "execution_count": null,
   "metadata": {
    "pycharm": {
     "name": "#%%\n"
    }
   },
   "outputs": [],
   "source": [
    "patients_file = os.path.join(DATA_DIR, 'hosp', 'patients.csv.gz')\n",
    "admissions_file = os.path.join(DATA_DIR, 'hosp', 'admissions.csv.gz')\n",
    "lab_file = os.path.join(DATA_DIR, 'hosp', 'labevents.csv.gz')\n",
    "lab_meta_file = os.path.join(DATA_DIR, 'hosp', 'd_labitems.csv.gz')"
   ]
  },
  {
   "cell_type": "code",
   "execution_count": null,
   "metadata": {
    "pycharm": {
     "name": "#%%\n"
    }
   },
   "outputs": [],
   "source": [
    "patients_df = pd.read_csv(patients_file, compression='gzip')\n",
    "patients_df.head()"
   ]
  },
  {
   "cell_type": "code",
   "execution_count": null,
   "metadata": {
    "pycharm": {
     "name": "#%%\n"
    }
   },
   "outputs": [],
   "source": [
    "print(len(patients_df))"
   ]
  },
  {
   "cell_type": "code",
   "execution_count": null,
   "metadata": {
    "pycharm": {
     "name": "#%%\n"
    }
   },
   "outputs": [],
   "source": [
    "# fig, ax = plt.subplots(1,1,dpi=100)\n",
    "# tmp = patients_df[[AGE_COL, GENDER_COL]]\n",
    "# tmp[AGE_COL] = pd.cut(tmp[AGE_COL], bins=AGE_BINS, labels=AGE_LABELS)\n",
    "# tmp.groupby([AGE_COL, GENDER_COL]).size().unstack().plot(kind='bar', ax=ax)\n",
    "# ax.set_xlabel('Anchor Age [years]', fontsize=font_sz)\n",
    "# ax.set_ylabel('Number of Patients', fontsize=font_sz)\n",
    "# ax.set_title(f'Total Population, N={len(tmp)}', fontsize=font_sz)\n",
    "# ax.legend(labels=['Female', 'Male'], title=\"Sex\")\n",
    "# ax.set_xticklabels(AGE_LABELS, rotation=90)\n",
    "# fig.savefig(os.path.join(OUTPUT_DIR, 'age_gender_total.png'), dpi=300)"
   ]
  },
  {
   "cell_type": "code",
   "execution_count": null,
   "metadata": {
    "pycharm": {
     "name": "#%%\n"
    }
   },
   "outputs": [],
   "source": [
    "# fig, ax = plt.subplots(1,1,dpi=100)\n",
    "# patients_df[YEAR_GROUP_COL].value_counts().plot.bar(ax=ax)\n",
    "# ax.set_ylabel('Number of Patients', fontsize=font_sz)\n",
    "# ax.set_xlabel('Anchor Year Group', fontsize=font_sz)\n",
    "# for p in ax.patches:\n",
    "#     ax.annotate(str(p.get_height()), (p.get_x(), p.get_height() * 1.01))"
   ]
  },
  {
   "cell_type": "code",
   "execution_count": null,
   "metadata": {
    "pycharm": {
     "name": "#%%\n"
    }
   },
   "outputs": [],
   "source": [
    "admissions_df = pd.read_csv(admissions_file, compression='gzip', parse_dates=[ADMISSION_TIME_COL,\n",
    "                            DISCHARGE_TIME_COL, DEATH_TIME_COL, ED_REG_TIME, ED_OUT_TIME])\n",
    "admissions_df"
   ]
  },
  {
   "cell_type": "code",
   "execution_count": null,
   "metadata": {
    "pycharm": {
     "name": "#%%\n"
    }
   },
   "outputs": [],
   "source": [
    "admissions_df = admissions_df.merge(patients_df, on=[SUBJECT_ID_COL])"
   ]
  },
  {
   "cell_type": "markdown",
   "metadata": {
    "pycharm": {
     "name": "#%% md\n"
    }
   },
   "source": [
    "# Calculate Age at Admission and Group of Admission Year"
   ]
  },
  {
   "cell_type": "markdown",
   "metadata": {
    "pycharm": {
     "name": "#%% md\n"
    }
   },
   "source": [
    "Based on mimic IV example https://mimic.mit.edu/docs/iv/modules/hosp/patients/"
   ]
  },
  {
   "cell_type": "code",
   "execution_count": null,
   "metadata": {
    "pycharm": {
     "name": "#%%\n"
    }
   },
   "outputs": [],
   "source": [
    "# Diff column first\n",
    "admissions_df[ADMISSION_YEAR_COL] = (admissions_df[ADMISSION_TIME_COL].dt.year - admissions_df['anchor_year'])\n",
    "\n",
    "# Age at admission calculation\n",
    "admissions_df[ADMISSION_AGE_COL] = (admissions_df[AGE_COL] + admissions_df[ADMISSION_YEAR_COL])\n",
    "\n",
    "# Admission year group lower bound calculation\n",
    "admissions_df[ADMISSION_YEAR_COL] = admissions_df[ADMISSION_YEAR_COL] + admissions_df[YEAR_GROUP_COL].apply(lambda x: int(x.split(' ')[0]))\n"
   ]
  },
  {
   "cell_type": "code",
   "execution_count": null,
   "metadata": {
    "pycharm": {
     "name": "#%%\n"
    }
   },
   "outputs": [],
   "source": [
    "fig, ax = plt.subplots(1,1,dpi=100)\n",
    "admissions_df[ADMISSION_YEAR_COL].value_counts().sort_index().plot.bar(ax=ax)\n",
    "ax.set_ylabel('Number of Patients', fontsize=font_sz)\n",
    "ax.set_xlabel('Admission Year (lower bound)', fontsize=font_sz)\n",
    "for p in ax.patches:\n",
    "    ax.annotate(str(p.get_height()), (p.get_x(), p.get_height() * 1.01))"
   ]
  },
  {
   "cell_type": "code",
   "execution_count": null,
   "metadata": {
    "pycharm": {
     "name": "#%%\n"
    }
   },
   "outputs": [],
   "source": [
    "fig, ax = plt.subplots(1,1,dpi=100)\n",
    "tmp = admissions_df[[ADMISSION_AGE_COL, GENDER_COL]]\n",
    "tmp[ADMISSION_AGE_COL] = pd.cut(tmp[ADMISSION_AGE_COL], bins=AGE_BINS, labels=AGE_LABELS)\n",
    "tmp.groupby([ADMISSION_AGE_COL, GENDER_COL]).size().unstack().plot(kind='bar', ax=ax)\n",
    "ax.set_xlabel('Age at Admission [years]', fontsize=font_sz)\n",
    "ax.set_ylabel('Number of Patients', fontsize=font_sz)\n",
    "ax.set_title(f'Total Population, N={len(tmp)}', fontsize=font_sz)\n",
    "ax.legend(labels=['Female', 'Male'], title=\"Sex\")\n",
    "ax.set_xticklabels(AGE_LABELS, rotation=90)\n",
    "fig.savefig(os.path.join(OUTPUT_DIR, 'age_gender_admissions_total.png'), dpi=300)"
   ]
  },
  {
   "cell_type": "code",
   "execution_count": null,
   "metadata": {
    "pycharm": {
     "name": "#%%\n"
    }
   },
   "outputs": [],
   "source": [
    "admissions_df[LOS_EXACT_COL] = (admissions_df[DISCHARGE_TIME_COL] - admissions_df[ADMISSION_TIME_COL])\n",
    "admissions_df[LOS_DAYS_COL] = admissions_df[LOS_EXACT_COL].dt.ceil('1d')"
   ]
  },
  {
   "cell_type": "code",
   "execution_count": null,
   "metadata": {
    "pycharm": {
     "name": "#%%\n"
    }
   },
   "outputs": [],
   "source": [
    "fig, ax = plt.subplots(1,1,dpi=100)\n",
    "admissions_df[ADMISSION_TYPE_COL].value_counts().plot.bar(ax=ax)\n",
    "ax.set_ylabel('Number of Patients', fontsize=font_sz)\n",
    "ax.set_xlabel('Admission Type', fontsize=font_sz)\n",
    "for p in ax.patches:\n",
    "    ax.annotate(str(p.get_height()), (p.get_x(), p.get_height() * 1.01))"
   ]
  },
  {
   "cell_type": "code",
   "execution_count": null,
   "metadata": {
    "pycharm": {
     "name": "#%%\n"
    }
   },
   "outputs": [],
   "source": [
    "max_clip_days = 14\n",
    "\n",
    "fig, axes = plt.subplots(1, 3, figsize=(16, 4))\n",
    "\n",
    "ax = axes[0]\n",
    "tmp = admissions_df[admissions_df[ADMISSION_TYPE_COL] == 'URGENT']\n",
    "los_bar = tmp[LOS_DAYS_COL].clip(pd.to_timedelta('1d'), pd.to_timedelta(f'{max_clip_days}d')).value_counts().sort_index()\n",
    "los_bar.index = np.arange(1, max_clip_days+1)\n",
    "los_bar.plot.bar(ax=ax)\n",
    "ax.set_ylabel('Number of Patients', fontsize=font_sz)\n",
    "ax.set_xlabel('LOS (Days)', fontsize=font_sz)\n",
    "ax.grid(axis='y')\n",
    "ax.set_title('URGENT', fontsize=font_sz)\n",
    "\n",
    "ax = axes[1]\n",
    "tmp = admissions_df[admissions_df[ADMISSION_TYPE_COL] == 'EW EMER.']\n",
    "los_bar = tmp[LOS_DAYS_COL].clip(pd.to_timedelta('1d'), pd.to_timedelta(f'{max_clip_days}d')).value_counts().sort_index()\n",
    "los_bar.index = np.arange(1, max_clip_days+1)\n",
    "los_bar.plot.bar(ax=ax)\n",
    "ax.set_ylabel('Number of Patients', fontsize=font_sz)\n",
    "ax.set_xlabel('LOS (Days)', fontsize=font_sz)\n",
    "ax.grid(axis='y')\n",
    "ax.set_title('EW EMER.', fontsize=font_sz)\n",
    "\n",
    "ax = axes[2]\n",
    "tmp = admissions_df[admissions_df[ADMISSION_TYPE_COL] == 'DIRECT EMER.']\n",
    "los_bar = tmp[LOS_DAYS_COL].clip(pd.to_timedelta('1d'), pd.to_timedelta(f'{max_clip_days}d')).value_counts().sort_index()\n",
    "los_bar.index = np.arange(1, max_clip_days+1)\n",
    "los_bar.plot.bar(ax=ax)\n",
    "ax.set_ylabel('Number of Patients', fontsize=font_sz)\n",
    "ax.set_xlabel('LOS (Days)', fontsize=font_sz)\n",
    "ax.grid(axis='y')\n",
    "ax.set_title('DIRECT EMER.', fontsize=font_sz)\n",
    "\n",
    "fig.tight_layout()"
   ]
  },
  {
   "cell_type": "markdown",
   "metadata": {
    "pycharm": {
     "name": "#%% md\n"
    }
   },
   "source": [
    "# Taking only URGENT admissions from now on"
   ]
  },
  {
   "cell_type": "code",
   "execution_count": null,
   "metadata": {
    "pycharm": {
     "name": "#%%\n"
    }
   },
   "outputs": [],
   "source": [
    "print(len(admissions_df))\n",
    "admissions_df = admissions_df[admissions_df[ADMISSION_TYPE_COL] == 'URGENT']\n",
    "print(len(admissions_df))"
   ]
  },
  {
   "cell_type": "markdown",
   "metadata": {
    "pycharm": {
     "name": "#%% md\n"
    }
   },
   "source": [
    "# Counting urgent admissions to each patient "
   ]
  },
  {
   "cell_type": "code",
   "execution_count": null,
   "metadata": {
    "pycharm": {
     "name": "#%%\n"
    }
   },
   "outputs": [],
   "source": [
    "number_of_admissions = admissions_df.groupby(SUBJECT_ID_COL)[ADMISSION_ID_COL].nunique()\n",
    "number_of_admissions.name = ADMISSION_COUNT_COL\n",
    "number_of_admissions"
   ]
  },
  {
   "cell_type": "code",
   "execution_count": null,
   "metadata": {
    "pycharm": {
     "name": "#%%\n"
    }
   },
   "outputs": [],
   "source": [
    "fig, ax = plt.subplots(1,1,dpi=100)\n",
    "number_of_admissions.value_counts().sort_index().plot.bar(ax=ax, logy=True)\n",
    "ax.set_ylabel('Number of Patients', fontsize=font_sz)\n",
    "ax.set_xlabel('Number of Admissions', fontsize=font_sz)\n",
    "ax.grid('y', which='minor', alpha=0.4)\n",
    "for p in ax.patches:\n",
    "    ax.annotate(str(p.get_height()), (p.get_x(), p.get_height() * 1.01))"
   ]
  },
  {
   "cell_type": "code",
   "execution_count": null,
   "metadata": {
    "pycharm": {
     "name": "#%%\n"
    }
   },
   "outputs": [],
   "source": [
    "admissions_df = admissions_df.merge(number_of_admissions, on=SUBJECT_ID_COL)\n",
    "only_last_admission = admissions_df.sort_values(by=[ADMISSION_TIME_COL]).drop_duplicates(subset=[SUBJECT_ID_COL], keep='last')\n",
    "len(only_last_admission)"
   ]
  },
  {
   "cell_type": "markdown",
   "metadata": {
    "pycharm": {
     "name": "#%% md\n"
    }
   },
   "source": [
    "# Taking only patients with last admission after MINIMUM YEAR"
   ]
  },
  {
   "cell_type": "code",
   "execution_count": null,
   "metadata": {
    "pycharm": {
     "name": "#%%\n"
    }
   },
   "outputs": [],
   "source": [
    "MINIMUM_YEAR = 2017\n",
    "print(len(only_last_admission))\n",
    "only_last_admission = only_last_admission[only_last_admission[ADMISSION_YEAR_COL] >= MINIMUM_YEAR]\n",
    "print(len(only_last_admission))"
   ]
  },
  {
   "cell_type": "code",
   "execution_count": null,
   "metadata": {
    "pycharm": {
     "name": "#%%\n"
    }
   },
   "outputs": [],
   "source": [
    "admissions_df[admissions_df[SUBJECT_ID_COL] == 13465885].sort_values(ADMISSION_TIME_COL)"
   ]
  },
  {
   "cell_type": "code",
   "execution_count": null,
   "metadata": {
    "pycharm": {
     "name": "#%%\n"
    }
   },
   "outputs": [],
   "source": [
    "admissions_df[admissions_df[SUBJECT_ID_COL] == 17772216].sort_values(ADMISSION_TIME_COL)"
   ]
  },
  {
   "cell_type": "code",
   "execution_count": null,
   "metadata": {
    "pycharm": {
     "name": "#%%\n"
    }
   },
   "outputs": [],
   "source": [
    "pids = only_last_admission[SUBJECT_ID_COL].drop_duplicates()\n",
    "adm_ids = only_last_admission[ADMISSION_ID_COL].drop_duplicates()\n",
    "print(len(pids))\n",
    "print(len(adm_ids))"
   ]
  },
  {
   "cell_type": "markdown",
   "metadata": {
    "pycharm": {
     "name": "#%% md\n"
    }
   },
   "source": [
    "# Creating full_df for patients with urgent admissions after minimum year and with lab tests"
   ]
  },
  {
   "cell_type": "code",
   "execution_count": null,
   "metadata": {
    "pycharm": {
     "name": "#%%\n"
    }
   },
   "outputs": [],
   "source": [
    "chunksize = 10 ** 7\n",
    "full_df = pd.DataFrame()\n",
    "with pd.read_csv(lab_file, chunksize=chunksize, compression='gzip', parse_dates=[CHART_TIME_COL, STORE_TIME_COL]) as reader:\n",
    "    for chunk in reader:\n",
    "        tmp_chunk = chunk[chunk[SUBJECT_ID_COL].isin(pids) & chunk[ADMISSION_ID_COL].isin(adm_ids)]\n",
    "        tmp_adms = only_last_admission[only_last_admission[SUBJECT_ID_COL].isin(pids) & only_last_admission[ADMISSION_ID_COL].isin(adm_ids)]\n",
    "        tmp_patinets = patients_df[patients_df[SUBJECT_ID_COL].isin(pids)]\n",
    "        tmp_chunk = tmp_chunk.merge(tmp_adms, on=[SUBJECT_ID_COL, ADMISSION_ID_COL])\n",
    "        tmp = tmp_chunk.merge(tmp_patinets, on=[SUBJECT_ID_COL])\n",
    "        full_df = pd.concat([full_df, tmp])\n",
    "        print(len(full_df))\n",
    "\n",
    "full_df.head()"
   ]
  },
  {
   "cell_type": "markdown",
   "metadata": {
    "pycharm": {
     "name": "#%% md\n"
    }
   },
   "source": [
    "# Continue only with included patients_df and admissions_df"
   ]
  },
  {
   "cell_type": "code",
   "execution_count": null,
   "metadata": {
    "pycharm": {
     "name": "#%%\n"
    }
   },
   "outputs": [],
   "source": [
    "pids = full_df[SUBJECT_ID_COL].drop_duplicates().values\n",
    "adms_ids = full_df[ADMISSION_ID_COL].drop_duplicates().values\n",
    "print(len(patients_df))\n",
    "patients_df = patients_df[patients_df[SUBJECT_ID_COL].isin(pids)]\n",
    "print(len(patients_df))\n",
    "print(len(admissions_df))\n",
    "admissions_df = admissions_df[admissions_df[ADMISSION_ID_COL].isin(adms_ids)]\n",
    "print(len(admissions_df))"
   ]
  },
  {
   "cell_type": "code",
   "execution_count": null,
   "metadata": {
    "pycharm": {
     "name": "#%%\n"
    }
   },
   "outputs": [],
   "source": [
    "len(full_df)"
   ]
  },
  {
   "cell_type": "code",
   "execution_count": null,
   "metadata": {
    "pycharm": {
     "name": "#%%\n"
    }
   },
   "outputs": [],
   "source": [
    "fig, ax = plt.subplots(1,1,dpi=100)\n",
    "admissions_df[ADMISSION_LOCATION_COL].value_counts().plot.bar(ax=ax)\n",
    "ax.set_ylabel('Number of Patients', fontsize=font_sz)\n",
    "ax.set_xlabel('Admission Location', fontsize=font_sz)\n",
    "for p in ax.patches:\n",
    "    ax.annotate(str(p.get_height()), (p.get_x(), p.get_height() * 1.01))"
   ]
  },
  {
   "cell_type": "code",
   "execution_count": null,
   "metadata": {
    "pycharm": {
     "name": "#%%\n"
    }
   },
   "outputs": [],
   "source": [
    "fig, ax = plt.subplots(1,1,dpi=100)\n",
    "admissions_df[DISCHARGE_LOCATION_COL].value_counts().plot.bar(ax=ax)\n",
    "ax.set_ylabel('Number of Patients', fontsize=font_sz)\n",
    "ax.set_xlabel('Discharge Location', fontsize=font_sz)\n",
    "for p in ax.patches:\n",
    "    ax.annotate(str(p.get_height()), (p.get_x(), p.get_height() * 1.01))"
   ]
  },
  {
   "cell_type": "markdown",
   "metadata": {
    "pycharm": {
     "name": "#%% md\n"
    }
   },
   "source": [
    "# Regrouping discharge location"
   ]
  },
  {
   "cell_type": "code",
   "execution_count": null,
   "metadata": {
    "pycharm": {
     "name": "#%%\n"
    }
   },
   "outputs": [],
   "source": [
    "DISCHARGE_REGROUPING_DICT = {\n",
    "    'HOME': 'HOME',\n",
    "    'HOME HEALTH CARE': 'HOME',\n",
    "    'SKILLED NURSING FACILITY': 'FURTHER TREATMENT',\n",
    "    'DIED': 'DIED',\n",
    "    'REHAB': 'HOME',\n",
    "    'CHRONIC/LONG TERM ACUTE CARE': 'FURTHER TREATMENT',\n",
    "    'HOSPICE': 'FURTHER TREATMENT',\n",
    "    'AGAINST ADVICE': 'CENSORED',\n",
    "    'ACUTE HOSPITAL': 'FURTHER TREATMENT',\n",
    "    'PSYCH FACILITY': 'FURTHER TREATMENT',\n",
    "    'OTHER FACILITY': 'FURTHER TREATMENT',\n",
    "    'ASSISTED LIVING': 'HOME',\n",
    "    'HEALTHCARE FACILITY': 'FURTHER TREATMENT',\n",
    "}"
   ]
  },
  {
   "cell_type": "code",
   "execution_count": null,
   "metadata": {
    "pycharm": {
     "name": "#%%\n"
    }
   },
   "outputs": [],
   "source": [
    "admissions_df[DISCHARGE_LOCATION_COL].replace(DISCHARGE_REGROUPING_DICT, inplace=True)\n",
    "full_df[DISCHARGE_LOCATION_COL].replace(DISCHARGE_REGROUPING_DICT, inplace=True)"
   ]
  },
  {
   "cell_type": "code",
   "execution_count": null,
   "metadata": {
    "pycharm": {
     "name": "#%%\n"
    }
   },
   "outputs": [],
   "source": [
    "fig, ax = plt.subplots(1,1,dpi=100)\n",
    "admissions_df[DISCHARGE_LOCATION_COL].value_counts().plot.bar(ax=ax)\n",
    "ax.set_ylabel('Number of Patients', fontsize=font_sz)\n",
    "ax.set_xlabel('Discharge Location', fontsize=font_sz)\n",
    "for p in ax.patches:\n",
    "    ax.annotate(str(p.get_height()), (p.get_x(), p.get_height() * 1.01))"
   ]
  },
  {
   "cell_type": "code",
   "execution_count": null,
   "metadata": {
    "pycharm": {
     "name": "#%%\n"
    }
   },
   "outputs": [],
   "source": [
    "fig, ax = plt.subplots(1,1,dpi=100)\n",
    "tmp = admissions_df[[ADMISSION_AGE_COL, GENDER_COL]]\n",
    "tmp[ADMISSION_AGE_COL] = pd.cut(tmp[ADMISSION_AGE_COL], bins=AGE_BINS, labels=AGE_LABELS)\n",
    "tmp.groupby([ADMISSION_AGE_COL, GENDER_COL]).size().unstack().plot(kind='bar', ax=ax)\n",
    "ax.set_xlabel('Age at Admission [years]', fontsize=font_sz)\n",
    "ax.set_ylabel('Number of Patients', fontsize=font_sz)\n",
    "ax.set_title(f'Total Population, N={len(tmp)}', fontsize=font_sz)\n",
    "ax.legend(labels=['Female', 'Male'], title=\"Sex\")\n",
    "ax.set_xticklabels(AGE_LABELS, rotation=90)\n",
    "fig.savefig(os.path.join(OUTPUT_DIR, 'age_gender_admissions_subset.png'), dpi=300)"
   ]
  },
  {
   "cell_type": "markdown",
   "metadata": {
    "pycharm": {
     "name": "#%% md\n"
    }
   },
   "source": [
    "# Regroup Race"
   ]
  },
  {
   "cell_type": "code",
   "execution_count": null,
   "metadata": {
    "pycharm": {
     "name": "#%%\n"
    }
   },
   "outputs": [],
   "source": [
    "RACE_REGROUPING_DICT = {\n",
    "    'WHITE': 'WHITE',\n",
    "    'UNKNOWN': 'OTHER',\n",
    "    'BLACK/AFRICAN AMERICAN': 'BLACK',\n",
    "    'OTHER': 'OTHER',\n",
    "    'ASIAN': 'ASIAN',\n",
    "    'WHITE - OTHER EUROPEAN': 'WHITE',\n",
    "    'HISPANIC/LATINO - PUERTO RICAN': 'HISPANIC',\n",
    "    'HISPANIC/LATINO - DOMINICAN': 'HISPANIC',\n",
    "    'ASIAN - CHINESE': 'ASIAN',\n",
    "    'BLACK/CARIBBEAN ISLAND': 'BLACK',\n",
    "    'BLACK/AFRICAN': 'BLACK',\n",
    "    'BLACK/CAPE VERDEAN': 'BLACK',\n",
    "    'PATIENT DECLINED TO ANSWER': 'OTHER',\n",
    "    'WHITE - BRAZILIAN': 'WHITE',\n",
    "    'PORTUGUESE': 'HISPANIC', \n",
    "    'ASIAN - SOUTH EAST ASIAN': 'ASIAN',\n",
    "    'WHITE - RUSSIAN': 'WHITE',\n",
    "    'ASIAN - ASIAN INDIAN': 'ASIAN',\n",
    "    'WHITE - EASTERN EUROPEAN': 'WHITE',\n",
    "    'AMERICAN INDIAN/ALASKA NATIVE': 'OTHER',\n",
    "    'HISPANIC/LATINO - GUATEMALAN': 'HISPANIC',\n",
    "    'HISPANIC/LATINO - MEXICAN': 'HISPANIC',\n",
    "    'HISPANIC/LATINO - SALVADORAN': 'HISPANIC',\n",
    "    'SOUTH AMERICAN': 'HISPANIC',\n",
    "    'NATIVE HAWAIIAN OR OTHER PACIFIC ISLANDER': 'OTHER',\n",
    "    'HISPANIC/LATINO - COLUMBIAN': 'HISPANIC',\n",
    "    'HISPANIC/LATINO - CUBAN': 'HISPANIC',\n",
    "    'ASIAN - KOREAN': 'ASIAN',\n",
    "    'HISPANIC/LATINO - HONDURAN': 'HISPANIC',\n",
    "    'HISPANIC/LATINO - CENTRAL AMERICAN': 'HISPANIC',\n",
    "    'UNABLE TO OBTAIN': 'OTHER',\n",
    "    'HISPANIC OR LATINO': 'HISPANIC'\n",
    "}"
   ]
  },
  {
   "cell_type": "code",
   "execution_count": null,
   "metadata": {
    "pycharm": {
     "name": "#%%\n"
    }
   },
   "outputs": [],
   "source": [
    "admissions_df[RACE_COL].replace(RACE_REGROUPING_DICT, inplace=True)\n",
    "full_df[RACE_COL].replace(RACE_REGROUPING_DICT, inplace=True)"
   ]
  },
  {
   "cell_type": "code",
   "execution_count": null,
   "metadata": {
    "pycharm": {
     "name": "#%%\n"
    }
   },
   "outputs": [],
   "source": [
    "fig, ax = plt.subplots(1,1,dpi=100)\n",
    "admissions_df[RACE_COL].value_counts().plot.bar(ax=ax)\n",
    "ax.set_ylabel('Number of Patients', fontsize=font_sz)\n",
    "ax.set_xlabel('Race', fontsize=font_sz)\n",
    "for p in ax.patches:\n",
    "    ax.annotate(str(p.get_height()), (p.get_x(), p.get_height() * 1.01))"
   ]
  },
  {
   "cell_type": "code",
   "execution_count": null,
   "metadata": {
    "pycharm": {
     "name": "#%%\n"
    }
   },
   "outputs": [],
   "source": [
    "fig, ax = plt.subplots(1,1,dpi=100)\n",
    "admissions_df[INSURANCE_COL].value_counts().plot.bar(ax=ax)\n",
    "ax.set_ylabel('Number of Patients', fontsize=font_sz)\n",
    "ax.set_xlabel('Insurance', fontsize=font_sz)\n",
    "for p in ax.patches:\n",
    "    ax.annotate(str(p.get_height()), (p.get_x(), p.get_height() * 1.01))"
   ]
  },
  {
   "cell_type": "markdown",
   "metadata": {
    "pycharm": {
     "name": "#%% md\n"
    }
   },
   "source": [
    "# Taking only results 24 hours from admission"
   ]
  },
  {
   "cell_type": "code",
   "execution_count": null,
   "metadata": {
    "pycharm": {
     "name": "#%%\n"
    }
   },
   "outputs": [],
   "source": [
    "full_df.head()"
   ]
  },
  {
   "cell_type": "code",
   "execution_count": null,
   "metadata": {
    "pycharm": {
     "name": "#%%\n"
    }
   },
   "outputs": [],
   "source": [
    "full_df[ADMISSION_TO_RESULT_COL] = (full_df[STORE_TIME_COL] - full_df[ADMISSION_TIME_COL])"
   ]
  },
  {
   "cell_type": "code",
   "execution_count": null,
   "metadata": {
    "pycharm": {
     "name": "#%%\n"
    }
   },
   "outputs": [],
   "source": [
    "print(len(full_df[ADMISSION_TO_RESULT_COL]))\n",
    "print(len(full_df[full_df[ADMISSION_TO_RESULT_COL] <= pd.to_timedelta('1d')]))\n",
    "print(len(full_df[full_df[ADMISSION_TO_RESULT_COL] <= pd.to_timedelta('2d')]))"
   ]
  },
  {
   "cell_type": "code",
   "execution_count": null,
   "metadata": {
    "pycharm": {
     "name": "#%%\n"
    }
   },
   "outputs": [],
   "source": [
    "print(len(full_df[ADMISSION_ID_COL].drop_duplicates()))\n",
    "print(len(full_df[full_df[ADMISSION_TO_RESULT_COL] <= pd.to_timedelta('1d')][ADMISSION_ID_COL].drop_duplicates()))\n",
    "print(len(full_df[full_df[ADMISSION_TO_RESULT_COL] <= pd.to_timedelta('2d')][ADMISSION_ID_COL].drop_duplicates()))"
   ]
  },
  {
   "cell_type": "code",
   "execution_count": null,
   "metadata": {
    "pycharm": {
     "name": "#%%\n"
    }
   },
   "outputs": [],
   "source": [
    "full_df = full_df[full_df[ADMISSION_TO_RESULT_COL] <= pd.to_timedelta('1d')]\n",
    "full_df.head()"
   ]
  },
  {
   "cell_type": "code",
   "execution_count": null,
   "metadata": {
    "pycharm": {
     "name": "#%%\n"
    }
   },
   "outputs": [],
   "source": [
    "print(len(full_df))\n",
    "full_df.sort_values(by=[ADMISSION_TIME_COL, STORE_TIME_COL]).drop_duplicates(subset=[SUBJECT_ID_COL, ADMISSION_ID_COL, ITEM_ID_COL], \n",
    "    inplace=True, keep='last')\n",
    "print(len(full_df))"
   ]
  },
  {
   "cell_type": "markdown",
   "metadata": {
    "pycharm": {
     "name": "#%% md\n"
    }
   },
   "source": [
    "# Most common lab tests upon arrival"
   ]
  },
  {
   "cell_type": "code",
   "execution_count": null,
   "metadata": {
    "pycharm": {
     "name": "#%%\n"
    }
   },
   "outputs": [],
   "source": [
    "lab_meta_df = pd.read_csv(lab_meta_file, compression='gzip')\n",
    "lab_meta_df"
   ]
  },
  {
   "cell_type": "code",
   "execution_count": null,
   "metadata": {
    "pycharm": {
     "name": "#%%\n"
    }
   },
   "outputs": [],
   "source": [
    "threshold = 4500"
   ]
  },
  {
   "cell_type": "code",
   "execution_count": null,
   "metadata": {
    "pycharm": {
     "name": "#%%\n"
    }
   },
   "outputs": [],
   "source": [
    "common_tests = full_df.groupby(ITEM_ID_COL)[ADMISSION_ID_COL].nunique().sort_values(ascending=False)\n",
    "included_in_threshold = common_tests[common_tests > threshold].to_frame().merge(lab_meta_df, on=ITEM_ID_COL)\n",
    "included_in_threshold"
   ]
  },
  {
   "cell_type": "code",
   "execution_count": null,
   "metadata": {
    "pycharm": {
     "name": "#%%\n"
    }
   },
   "outputs": [],
   "source": [
    "print(len(full_df))\n",
    "full_df = full_df[full_df[ITEM_ID_COL].isin(included_in_threshold[ITEM_ID_COL].values)]\n",
    "print(len(full_df))"
   ]
  },
  {
   "cell_type": "code",
   "execution_count": null,
   "metadata": {
    "pycharm": {
     "name": "#%%\n"
    }
   },
   "outputs": [],
   "source": [
    "full_df.head()"
   ]
  },
  {
   "cell_type": "code",
   "execution_count": null,
   "metadata": {
    "pycharm": {
     "name": "#%%\n"
    }
   },
   "outputs": [],
   "source": [
    "full_df.columns"
   ]
  },
  {
   "cell_type": "code",
   "execution_count": null,
   "metadata": {
    "pycharm": {
     "name": "#%%\n"
    }
   },
   "outputs": [],
   "source": [
    "full_df['flag'].value_counts()"
   ]
  },
  {
   "cell_type": "code",
   "execution_count": null,
   "metadata": {
    "pycharm": {
     "name": "#%%\n"
    }
   },
   "outputs": [],
   "source": [
    "# to include priority? to include \"comments\" flag?\n",
    "# to select base on admission location?\n"
   ]
  },
  {
   "cell_type": "code",
   "execution_count": null,
   "metadata": {
    "pycharm": {
     "name": "#%%\n"
    }
   },
   "outputs": [],
   "source": [
    "MARITAL_STATUS_COL = 'marital_status'"
   ]
  },
  {
   "cell_type": "code",
   "execution_count": null,
   "metadata": {
    "pycharm": {
     "name": "#%%\n"
    }
   },
   "outputs": [],
   "source": [
    "COLUMNS_SUBSET = [SUBJECT_ID_COL, ITEM_ID_COL, 'flag', DISCHARGE_LOCATION_COL, INSURANCE_COL, MARITAL_STATUS_COL, RACE_COL, 'gender_x', ADMISSION_AGE_COL, LOS_DAYS_COL]\n",
    "OUTPUT_COLS = [DISCHARGE_LOCATION_COL, LOS_DAYS_COL]"
   ]
  },
  {
   "cell_type": "code",
   "execution_count": null,
   "metadata": {
    "pycharm": {
     "name": "#%%\n"
    }
   },
   "outputs": [],
   "source": [
    "tmp = full_df.copy()"
   ]
  },
  {
   "cell_type": "code",
   "execution_count": null,
   "metadata": {
    "pycharm": {
     "name": "#%%\n"
    }
   },
   "outputs": [],
   "source": [
    "tmp"
   ]
  },
  {
   "cell_type": "code",
   "execution_count": null,
   "metadata": {
    "pycharm": {
     "name": "#%%\n"
    }
   },
   "outputs": [],
   "source": [
    "tmp['flag'] = tmp['flag'].replace({'abnormal': 1}).fillna(0)\n",
    "tmp"
   ]
  },
  {
   "cell_type": "code",
   "execution_count": null,
   "metadata": {
    "pycharm": {
     "name": "#%%\n"
    }
   },
   "outputs": [],
   "source": [
    "tmp[[SUBJECT_ID_COL, ITEM_ID_COL, 'flag']].drop_duplicates(subset=[SUBJECT_ID_COL, ITEM_ID_COL]).fillna(0).pivot(index=SUBJECT_ID_COL, columns=ITEM_ID_COL, values='flag')\n",
    "x"
   ]
  },
  {
   "cell_type": "code",
   "execution_count": null,
   "metadata": {
    "pycharm": {
     "name": "#%%\n"
    }
   },
   "outputs": [],
   "source": [
    "tmp[[SUBJECT_ID_COL, ITEM_ID_COL, 'flag']]"
   ]
  },
  {
   "cell_type": "code",
   "execution_count": null,
   "metadata": {
    "pycharm": {
     "name": "#%%\n"
    }
   },
   "outputs": [],
   "source": []
  }
 ],
 "metadata": {
  "kernelspec": {
   "display_name": "Python 3.10.6 64-bit",
   "language": "python",
   "name": "python3"
  },
  "language_info": {
   "codemirror_mode": {
    "name": "ipython",
    "version": 3
   },
   "file_extension": ".py",
   "mimetype": "text/x-python",
   "name": "python",
   "nbconvert_exporter": "python",
   "pygments_lexer": "ipython3",
   "version": "3.10.6"
  },
  "orig_nbformat": 4,
  "vscode": {
   "interpreter": {
    "hash": "31f2aee4e71d21fbe5cf8b01ff0e069b9275f58929596ceb00d14d90e3e16cd6"
   }
  }
 },
 "nbformat": 4,
 "nbformat_minor": 2
}