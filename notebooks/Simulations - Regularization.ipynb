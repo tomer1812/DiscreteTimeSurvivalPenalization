{
 "cells": [
  {
   "cell_type": "code",
   "execution_count": null,
   "metadata": {
    "pycharm": {
     "name": "#%%\n"
    }
   },
   "outputs": [],
   "source": [
    "import pandas as pd\n",
    "import numpy as np\n",
    "import os\n",
    "from time import time\n",
    "from sklearn.model_selection import train_test_split\n",
    "from pydts.examples_utils.generate_simulations_data import generate_quick_start_df\n",
    "from pydts.examples_utils.plots import plot_example_pred_output\n",
    "from pydts.examples_utils.plots import add_panel_text\n",
    "from pydts.fitters import TwoStagesFitter, DataExpansionFitter\n",
    "\n",
    "from pydts.data_generation import EventTimesSampler\n",
    "from matplotlib import pyplot as plt\n",
    "import warnings\n",
    "import pickle\n",
    "from copy import deepcopy\n",
    "from sklearn.model_selection import KFold\n",
    "pd.set_option(\"display.max_rows\", 500)\n",
    "warnings.filterwarnings('ignore')\n",
    "%matplotlib inline\n",
    "slicer = pd.IndexSlice"
   ]
  },
  {
   "cell_type": "code",
   "execution_count": null,
   "metadata": {
    "pycharm": {
     "name": "#%%\n"
    }
   },
   "outputs": [],
   "source": [
    "OUTPUT_DIR = '/home/tomer.me/DiscreteTimeSurvivalPenalization/output'"
   ]
  },
  {
   "cell_type": "markdown",
   "metadata": {
    "pycharm": {
     "name": "#%% md\n"
    }
   },
   "source": [
    "# Sampling data"
   ]
  },
  {
   "cell_type": "code",
   "execution_count": null,
   "metadata": {
    "pycharm": {
     "name": "#%%\n"
    }
   },
   "outputs": [],
   "source": [
    "n_cov = 100\n",
    "beta1 = np.zeros(n_cov)\n",
    "beta1[:5] = (-np.log([1.2, 0.9, 1.2, 0.8, 1.2]))\n",
    "beta2 = np.zeros(n_cov)\n",
    "beta2[:5] = (-np.log([1.4, 0.8, 1.1, 1, 1.1]))\n",
    "\n",
    "real_coef_dict = {\n",
    "    \"alpha\": {\n",
    "        1: lambda t: -2.6 + 0.4 * np.log(t),\n",
    "        2: lambda t: -2.7 + 0.5 * np.log(t)\n",
    "    },\n",
    "    \"beta\": {\n",
    "        1: beta1,\n",
    "        2: beta2\n",
    "    }\n",
    "}\n",
    "\n",
    "n_patients = 15000\n",
    "d_times = 15\n",
    "j_events = 2\n",
    "\n",
    "ets = EventTimesSampler(d_times=d_times, j_event_types=j_events)\n",
    "\n",
    "seed = 0\n",
    "means_vector = np.zeros(n_cov)\n",
    "covariance_matrix = 1 * np.identity(n_cov)\n",
    "clip_value = 1.8\n",
    "\n",
    "covariates = [f'Z{i + 1}' for i in range(n_cov)]\n",
    "\n",
    "patients_df = pd.DataFrame(data=pd.DataFrame(data=np.random.multivariate_normal(means_vector, covariance_matrix,\n",
    "                                                                                size=n_patients),\n",
    "                                             columns=covariates))\n",
    "patients_df.clip(lower=-1 * clip_value, upper=clip_value, inplace=True)\n",
    "patients_df = ets.sample_event_times(patients_df, hazard_coefs=real_coef_dict, seed=seed)\n",
    "patients_df = ets.sample_independent_lof_censoring(patients_df, prob_los_at_t=0.01 * np.ones_like(ets.times),\n",
    "                                                   seed=seed + 1)\n",
    "patients_df = ets.update_event_or_lof(patients_df)\n",
    "\n",
    "patients_df.index.name = 'pid'\n",
    "patients_df = patients_df.reset_index()"
   ]
  },
  {
   "cell_type": "code",
   "execution_count": null,
   "metadata": {
    "pycharm": {
     "name": "#%%\n"
    }
   },
   "outputs": [],
   "source": [
    "from pydts.examples_utils.plots import plot_events_occurrence\n",
    "plot_events_occurrence(patients_df)"
   ]
  },
  {
   "cell_type": "code",
   "execution_count": null,
   "metadata": {
    "pycharm": {
     "name": "#%%\n"
    },
    "scrolled": false
   },
   "outputs": [],
   "source": [
    "penalizers = [np.exp(v) for v in np.arange(-9, 0.25, step=0.25)] \n",
    "models = {}\n",
    "n_splits = 5\n",
    "\n",
    "for idp, penalizer in enumerate(penalizers):\n",
    "\n",
    "    kfold_cv = KFold(n_splits=n_splits, shuffle=True, random_state=(100+idp))\n",
    "    \n",
    "    folds_models = []\n",
    "    \n",
    "    for i_fold, (train_index, test_index) in enumerate(kfold_cv.split(patients_df)):\n",
    "        train_df, test_df = patients_df.loc[train_index], patients_df.loc[test_index]\n",
    "    \n",
    "        L1_regularized_fitter = TwoStagesFitter()\n",
    "\n",
    "        fit_beta_kwargs = {\n",
    "            'model_kwargs': {\n",
    "                'penalizer': penalizer,\n",
    "                'l1_ratio': 1\n",
    "            }\n",
    "        }\n",
    "\n",
    "        print(f'Start fitting with L1 regularization coef: {penalizer}, fold {i_fold}')\n",
    "        start = time()\n",
    "        L1_regularized_fitter.fit(df=train_df.drop(['C', 'T'], axis=1), fit_beta_kwargs=fit_beta_kwargs, nb_workers=1)\n",
    "        end = time()\n",
    "        print(f'Finished: {end - start} sec')\n",
    "        \n",
    "        folds_models.append(deepcopy(L1_regularized_fitter))\n",
    "\n",
    "    models[penalizer] = folds_models"
   ]
  },
  {
   "cell_type": "code",
   "execution_count": null,
   "metadata": {
    "pycharm": {
     "name": "#%%\n"
    }
   },
   "outputs": [],
   "source": [
    "with open(os.path.join(OUTPUT_DIR, f'rerun_regularization_models.pkl'), \"wb\") as fp: \n",
    "    pickle.dump(models, fp)"
   ]
  },
  {
   "cell_type": "code",
   "execution_count": null,
   "metadata": {
    "pycharm": {
     "name": "#%%\n"
    }
   },
   "outputs": [],
   "source": [
    "p_threshold = 0.05\n",
    "fontsize = 13\n",
    "\n",
    "mode = 'll' # or 'score'\n",
    "\n",
    "if mode == 'score':\n",
    "    from pydts.utils import get_expanded_df\n",
    "    exp_patients_df = get_expanded_df(patients_df)\n",
    "    exp_patients_df['X_copy'] = np.ones_like(exp_patients_df['X'])\n",
    "\n",
    "fig, axes = plt.subplots(2, 2, figsize=(11,6), gridspec_kw={'width_ratios': [3, 1]})\n",
    "\n",
    "for idp, penalizer in enumerate(penalizers):\n",
    "    likelihood_1 = []\n",
    "    likelihood_2 = []\n",
    "    significant_coef_1 = []\n",
    "    significant_coef_2 = []\n",
    "    cv_diff_1 = []\n",
    "    cv_diff_2 = []\n",
    "    \n",
    "    for i_fold in range(n_splits):\n",
    "        likelihood_1.append(models[penalizer][i_fold].beta_models[1].log_likelihood_)\n",
    "        tmp = models[penalizer][i_fold].beta_models[1].summary[['coef', 'p']]\n",
    "        significant_coef_1.append(len(tmp[tmp['p'] <= p_threshold]))\n",
    "        \n",
    "        likelihood_2.append(models[penalizer][i_fold].beta_models[2].log_likelihood_)\n",
    "        tmp = models[penalizer][i_fold].beta_models[2].summary[['coef', 'p']]\n",
    "        significant_coef_2.append(len(tmp[tmp['p'] <= p_threshold]))\n",
    "        \n",
    "        if mode == 'score':\n",
    "            cv_diff_1.append(\n",
    "                models[penalizer][i_fold].beta_models[1].score(exp_patients_df) - \\\n",
    "                    models[penalizer][i_fold].beta_models[1].log_likelihood_\n",
    "            )\n",
    "\n",
    "            cv_diff_2.append(\n",
    "                models[penalizer][i_fold].beta_models[2].score(exp_patients_df) - \\\n",
    "                    models[penalizer][i_fold].beta_models[2].log_likelihood_\n",
    "            )\n",
    "        \n",
    "    mean_likelihood_1 = np.mean(np.array(likelihood_1))\n",
    "    err_1 = np.std(np.array(likelihood_1))\n",
    "    mean_sign_1 = np.median(np.array(significant_coef_1))\n",
    "    \n",
    "    if mode == 'score':\n",
    "        sum_1 = np.sum(np.array(cv_diff_1))\n",
    "    \n",
    "    mean_likelihood_2 = np.mean(np.array(likelihood_2))\n",
    "    err_2 = np.std(np.array(likelihood_2))\n",
    "    mean_sign_2 = np.median(np.array(significant_coef_2))\n",
    "    \n",
    "    if mode == 'score':\n",
    "        sum_2 = np.sum(np.array(cv_diff_2))\n",
    "\n",
    "    ax = axes[0, 0]\n",
    "    add_panel_text(ax, 'a', fsz=fontsize)\n",
    "    if mode == 'score':\n",
    "        ax.scatter(np.log(penalizer), sum_1, color='g', alpha=0.8)\n",
    "    else:\n",
    "        ax.errorbar(np.log(penalizer), mean_likelihood_1, yerr=err_1, fmt=\"o\", color='g', alpha=0.5)\n",
    "        \n",
    "    ax.set_xlabel(r'log($\\lambda$)', fontsize=fontsize)\n",
    "    ax.set_ylabel('Log-Partial Likelihood', fontsize=fontsize, color='g')\n",
    "    ax.set_xticks([t for t in range(-9,1,1)])\n",
    "    ax.set_xticklabels([f'{t}' for t in range(-9,1,1)])    \n",
    "    #ax.set_title(r'Stratified CoxPH for $\\beta_1$ Estimation', fontsize=fontsize)\n",
    "    ax.set_title(r'$\\beta_1$', fontsize=fontsize)\n",
    "    \n",
    "    chosen_lambda = -6.0\n",
    "\n",
    "    ax.tick_params(axis='y', colors='g')\n",
    "    ax.axvline(chosen_lambda, color='tab:blue', alpha=0.1, ls='--', lw=1)\n",
    "\n",
    "    \n",
    "    if idp == 0:\n",
    "        #ax.legend()\n",
    "        ax2 = ax.twinx()\n",
    "        ax2.set_ylabel('5-Folds Median \\n Number of Coefficients', fontsize=fontsize)\n",
    "        ax2.set_ylim([-0.3, 10])\n",
    "\n",
    "    ax2.scatter(np.log(penalizer), mean_sign_1, color='k', alpha=0.8, marker='P')\n",
    "    ax2.tick_params(axis='y', colors='k')\n",
    "\n",
    "    ax = axes[1, 0]\n",
    "    add_panel_text(ax, 'b', fsz=fontsize)\n",
    "\n",
    "    if mode == 'score':\n",
    "        ax.scatter(np.log(penalizer), sum_2, color='g', alpha=0.8, label='Mean')\n",
    "    else:\n",
    "        ax.errorbar(np.log(penalizer), mean_likelihood_2, yerr=err_2, fmt=\"o\", color='g', alpha=0.5)\n",
    "\n",
    "    ax.set_xlabel(r'log($\\lambda$)', fontsize=fontsize)\n",
    "    ax.set_ylabel('Log-Partial Likelihood', fontsize=fontsize, color='g')\n",
    "    ax.set_xticks([t for t in range(-9,1,1)])\n",
    "    ax.set_xticklabels([f'{t}' for t in range(-9,1,1)])\n",
    "    #ax.set_title(r'Stratified CoxPH for $\\beta_2$ Estimation', fontsize=fontsize)\n",
    "    ax.set_title(r'$\\beta_2$', fontsize=fontsize)\n",
    "\n",
    "    ax.axvline(chosen_lambda, color='tab:blue', alpha=0.1, ls='--', lw=1)\n",
    "    ax.tick_params(axis='y', colors='g')\n",
    "\n",
    "    if idp == 0:\n",
    "        #ax.legend()\n",
    "        ax3 = ax.twinx()\n",
    "        ax3.set_ylabel('5-Folds Median \\n Number of Coefficients', fontsize=fontsize)\n",
    "        ax3.set_ylim([-0.3, 10])\n",
    "    \n",
    "    ax3.scatter(np.log(penalizer), mean_sign_2, color='k', alpha=0.8, marker='P')\n",
    "    \n",
    "for idp, penalizer in enumerate(penalizers):\n",
    "    tmp_j1_params_df = pd.DataFrame()\n",
    "    tmp_j2_params_df = pd.DataFrame()\n",
    "\n",
    "    for i_fold in range(n_splits):\n",
    "        tmp_j1_params_df = pd.concat([tmp_j1_params_df, models[penalizer][i_fold].beta_models[1].params_], axis=1)\n",
    "        tmp_j2_params_df = pd.concat([tmp_j2_params_df, models[penalizer][i_fold].beta_models[2].params_], axis=1)\n",
    "    \n",
    "    ser_1 = tmp_j1_params_df.mean(axis=1) \n",
    "    ser_1.name = penalizer\n",
    "    ser_2 = tmp_j2_params_df.mean(axis=1) \n",
    "    ser_2.name = penalizer    \n",
    "    \n",
    "    if idp == 0:\n",
    "        j1_params_df = ser_1.to_frame()\n",
    "        j2_params_df = ser_2.to_frame()\n",
    "    else:\n",
    "        j1_params_df = pd.concat([j1_params_df, ser_1], axis=1)\n",
    "        j2_params_df = pd.concat([j2_params_df, ser_2], axis=1)\n",
    "        \n",
    "        \n",
    "for i in range(n_cov):\n",
    "    ax = axes[0, 1]\n",
    "    add_panel_text(ax, 'c', fsz=fontsize)\n",
    "\n",
    "    ax.plot(penalizers, j1_params_df.iloc[i].values, label=f'Z{i}', lw=1)\n",
    "\n",
    "    if i == 0:\n",
    "        ax.set_xlim([0, 0.04])\n",
    "        ax.set_ylabel('5-Fold Mean Coefficient', fontsize=fontsize, color='brown')\n",
    "        ax.set_xlabel(r'$\\lambda$', fontsize=fontsize)\n",
    "        ax.set_title(r'$\\beta_1$', fontsize=fontsize)\n",
    "        ax.axvline(np.exp(chosen_lambda), color='tab:blue', alpha=1, ls='--', lw=1)\n",
    "    \n",
    "    ax.tick_params(axis='y', colors='brown')\n",
    "    \n",
    "    ax = axes[1, 1]\n",
    "    add_panel_text(ax, 'd', fsz=fontsize)\n",
    "\n",
    "    ax.plot(penalizers, j2_params_df.iloc[i].values, label=f'Z{i}', lw=1)\n",
    "\n",
    "    if i == 0:\n",
    "        ax.set_xlim([0, 0.04])\n",
    "        ax.set_ylabel('5-Fold Mean Coefficient', fontsize=fontsize, color='brown')\n",
    "        ax.set_xlabel(r'$\\lambda$', fontsize=fontsize)\n",
    "        ax.set_title(r'$\\beta_2$', fontsize=fontsize)\n",
    "        ax.axvline(np.exp(chosen_lambda), color='tab:blue', alpha=1, ls='--', lw=1)\n",
    "    \n",
    "    ax.tick_params(axis='y', colors='brown')\n",
    "\n",
    "\n",
    "fig.tight_layout()\n",
    "\n",
    "fig.savefig(os.path.join(OUTPUT_DIR, 'rerun_regularization_effect.png'), dpi=300)"
   ]
  },
  {
   "cell_type": "code",
   "execution_count": null,
   "metadata": {
    "pycharm": {
     "name": "#%%\n"
    }
   },
   "outputs": [],
   "source": [
    "penalizer = np.exp(-6.0) \n",
    "\n",
    "L1_regularized_fitter = TwoStagesFitter()\n",
    "\n",
    "fit_beta_kwargs = {\n",
    "    'model_kwargs': {\n",
    "        'penalizer': penalizer,\n",
    "        'l1_ratio': 1\n",
    "    }\n",
    "}\n",
    "\n",
    "print(f'Start fitting with L1 regularization coef: {penalizer}')\n",
    "start = time()\n",
    "L1_regularized_fitter.fit(df=patients_df.drop(['C', 'T'], axis=1), fit_beta_kwargs=fit_beta_kwargs, nb_workers=1)\n",
    "end = time()\n",
    "print(f'Finished: {end - start} sec')"
   ]
  },
  {
   "cell_type": "code",
   "execution_count": null,
   "metadata": {
    "pycharm": {
     "name": "#%%\n"
    }
   },
   "outputs": [],
   "source": [
    "L1_regularized_fitter.beta_models[1].summary[['coef', 'p']].round(3)"
   ]
  },
  {
   "cell_type": "code",
   "execution_count": null,
   "metadata": {
    "pycharm": {
     "name": "#%%\n"
    }
   },
   "outputs": [],
   "source": [
    "event_1 = L1_regularized_fitter.beta_models[1].summary[['coef', 'p']]\n",
    "event_1 = event_1[event_1['p'] <= p_threshold]\n",
    "event_1['True'] = (-np.log([1.2, 0.9, 1.2, 0.8, 1.2]))\n",
    "event_1.columns = ['Estimate', 'P-value', 'True']\n",
    "event_1"
   ]
  },
  {
   "cell_type": "code",
   "execution_count": null,
   "metadata": {
    "pycharm": {
     "name": "#%%\n"
    }
   },
   "outputs": [],
   "source": [
    "print(event_1[['True', 'Estimate', 'P-value']].to_latex())"
   ]
  },
  {
   "cell_type": "code",
   "execution_count": null,
   "metadata": {
    "pycharm": {
     "name": "#%%\n"
    }
   },
   "outputs": [],
   "source": [
    "event_2 = L1_regularized_fitter.beta_models[2].summary[['coef', 'p']]\n",
    "event_2 = event_2[event_2['p'] <= p_threshold]\n",
    "event_2['True'] = (-np.log([1.4, 0.8, 1.1, 1.1]))\n",
    "event_2.columns = ['Estimate', 'P-value', 'True']\n",
    "event_2"
   ]
  },
  {
   "cell_type": "code",
   "execution_count": null,
   "metadata": {
    "pycharm": {
     "name": "#%%\n"
    }
   },
   "outputs": [],
   "source": [
    "print(event_2[['True', 'Estimate', 'P-value']].to_latex())"
   ]
  },
  {
   "cell_type": "code",
   "execution_count": null,
   "metadata": {
    "collapsed": false,
    "pycharm": {
     "name": "#%%\n"
    }
   },
   "outputs": [],
   "source": [
    "# Additional case (with correlations)"
   ]
  },
  {
   "cell_type": "code",
   "execution_count": null,
   "metadata": {
    "pycharm": {
     "name": "#%%\n"
    }
   },
   "outputs": [],
   "source": [
    "n_cov = 100\n",
    "beta1 = np.zeros(n_cov)\n",
    "beta1[:5] = (-np.log([1.2, 0.9, 1.2, 0.8, 1.2]))\n",
    "beta2 = np.zeros(n_cov)\n",
    "beta2[:5] = (-np.log([1.4, 0.8, 1.1, 1, 1.1]))\n",
    "\n",
    "real_coef_dict = {\n",
    "    \"alpha\": {\n",
    "        1: lambda t: -2.6 + 0.4 * np.log(t),\n",
    "        2: lambda t: -2.7 + 0.5 * np.log(t)\n",
    "    },\n",
    "    \"beta\": {\n",
    "        1: beta1,\n",
    "        2: beta2\n",
    "    }\n",
    "}\n",
    "\n",
    "n_patients = 15000\n",
    "d_times = 15\n",
    "j_events = 2\n",
    "\n",
    "ets = EventTimesSampler(d_times=d_times, j_event_types=j_events)\n",
    "\n",
    "seed = 0\n",
    "means_vector = np.zeros(n_cov)\n",
    "covariance_matrix = 1 * np.identity(n_cov)\n",
    "covariance_matrix[0, 8] = 0.4\n",
    "covariance_matrix[8, 0] = 0.4\n",
    "covariance_matrix[1, 9] = 0.6\n",
    "covariance_matrix[9, 1] = 0.6\n",
    "covariance_matrix[4, 10] = 0.2\n",
    "covariance_matrix[10, 4] = 0.2\n",
    "\n",
    "clip_value = 1.8\n",
    "\n",
    "covariates = [f'Z{i + 1}' for i in range(n_cov)]\n",
    "\n",
    "patients_df = pd.DataFrame(data=pd.DataFrame(data=np.random.multivariate_normal(means_vector, covariance_matrix,\n",
    "                                                                                size=n_patients),\n",
    "                                             columns=covariates))\n",
    "patients_df.clip(lower=-1 * clip_value, upper=clip_value, inplace=True)\n",
    "patients_df = ets.sample_event_times(patients_df, hazard_coefs=real_coef_dict, seed=seed)\n",
    "patients_df = ets.sample_independent_lof_censoring(patients_df, prob_los_at_t=0.01 * np.ones_like(ets.times),\n",
    "                                                   seed=seed + 1)\n",
    "patients_df = ets.update_event_or_lof(patients_df)\n",
    "\n",
    "patients_df.index.name = 'pid'\n",
    "patients_df = patients_df.reset_index()"
   ]
  },
  {
   "cell_type": "code",
   "execution_count": null,
   "metadata": {
    "pycharm": {
     "name": "#%%\n"
    }
   },
   "outputs": [],
   "source": [
    "from pydts.examples_utils.plots import plot_events_occurrence\n",
    "plot_events_occurrence(patients_df)"
   ]
  },
  {
   "cell_type": "code",
   "execution_count": null,
   "metadata": {
    "pycharm": {
     "name": "#%%\n"
    }
   },
   "outputs": [],
   "source": [
    "penalizers = [np.exp(v) for v in np.arange(-9, -3.25, step=0.25)] \n",
    "models = {}\n",
    "n_splits = 5\n",
    "\n",
    "for idp, penalizer in enumerate(penalizers):\n",
    "    \n",
    "    L1_regularized_fitter = TwoStagesFitter()\n",
    "\n",
    "    fit_beta_kwargs = {\n",
    "        'model_kwargs': {\n",
    "            'penalizer': penalizer,\n",
    "            'l1_ratio': 1\n",
    "        }\n",
    "    }\n",
    "\n",
    "    print(f'Start fitting with L1 regularization coef: {penalizer}, fold {i_fold}')\n",
    "    start = time()\n",
    "    L1_regularized_fitter.fit(df=patients_df.drop(['C', 'T'], axis=1), fit_beta_kwargs=fit_beta_kwargs, nb_workers=1)\n",
    "    end = time()\n",
    "    print(f'Finished: {end - start} sec')\n",
    "        \n",
    "    models[penalizer] = deepcopy(L1_regularized_fitter)"
   ]
  },
  {
   "cell_type": "code",
   "execution_count": null,
   "metadata": {
    "pycharm": {
     "name": "#%%\n"
    }
   },
   "outputs": [],
   "source": [
    "with open(os.path.join(OUTPUT_DIR, f\"rerun_regularization_models_additional_correlated.pkl\"), \"wb\") as fp: \n",
    "    pickle.dump(models, fp)"
   ]
  },
  {
   "cell_type": "code",
   "execution_count": null,
   "metadata": {
    "pycharm": {
     "name": "#%%\n"
    }
   },
   "outputs": [],
   "source": [
    "p_threshold = 0.05\n",
    "\n",
    "\n",
    "mode = 'll' # or 'score'\n",
    "\n",
    "if mode == 'score':\n",
    "    from pydts.utils import get_expanded_df\n",
    "    exp_patients_df = get_expanded_df(patients_df)\n",
    "    exp_patients_df['X_copy'] = np.ones_like(exp_patients_df['X'])\n",
    "\n",
    "fig, axes = plt.subplots(2, 2, figsize=(11,6), gridspec_kw={'width_ratios': [3, 1]})\n",
    "\n",
    "for idp, penalizer in enumerate(penalizers):\n",
    "    likelihood_1 = []\n",
    "    likelihood_2 = []\n",
    "    significant_coef_1 = []\n",
    "    significant_coef_2 = []\n",
    "    cv_diff_1 = []\n",
    "    cv_diff_2 = []\n",
    "    \n",
    "    likelihood_1.append(models[penalizer].beta_models[1].log_likelihood_)\n",
    "    tmp = models[penalizer].beta_models[1].summary[['coef', 'p']]\n",
    "    significant_coef_1.append(len(tmp[tmp['p'] <= p_threshold]))\n",
    "\n",
    "    likelihood_2.append(models[penalizer].beta_models[2].log_likelihood_)\n",
    "    tmp = models[penalizer].beta_models[2].summary[['coef', 'p']]\n",
    "    significant_coef_2.append(len(tmp[tmp['p'] <= p_threshold]))\n",
    "\n",
    "    if mode == 'score':\n",
    "        cv_diff_1.append(\n",
    "            models[penalizer].beta_models[1].score(exp_patients_df) - \\\n",
    "                models[penalizer].beta_models[1].log_likelihood_\n",
    "        )\n",
    "\n",
    "        cv_diff_2.append(\n",
    "            models[penalizer].beta_models[2].score(exp_patients_df) - \\\n",
    "                models[penalizer].beta_models[2].log_likelihood_\n",
    "        )\n",
    "        \n",
    "    mean_likelihood_1 = np.mean(np.array(likelihood_1))\n",
    "    err_1 = np.std(np.array(likelihood_1))\n",
    "    mean_sign_1 = np.median(np.array(significant_coef_1))\n",
    "    \n",
    "    if mode == 'score':\n",
    "        sum_1 = np.sum(np.array(cv_diff_1))\n",
    "    \n",
    "    mean_likelihood_2 = np.mean(np.array(likelihood_2))\n",
    "    err_2 = np.std(np.array(likelihood_2))\n",
    "    mean_sign_2 = np.median(np.array(significant_coef_2))\n",
    "    \n",
    "    if mode == 'score':\n",
    "        sum_2 = np.sum(np.array(cv_diff_2))\n",
    "\n",
    "    ax = axes[0, 0]\n",
    "    add_panel_text(ax, 'a', fsz=fontsize)\n",
    "    if mode == 'score':\n",
    "        ax.scatter(np.log(penalizer), sum_1, color='g', alpha=0.8)\n",
    "    else:\n",
    "        ax.errorbar(np.log(penalizer), mean_likelihood_1, yerr=err_1, fmt=\"o\", color='g', alpha=0.5)\n",
    "        \n",
    "    ax.set_xlabel(r'log($\\lambda$)', fontsize=fontsize)\n",
    "    ax.set_ylabel('Log-Partial Likelihood', fontsize=fontsize, color='g')\n",
    "    ax.set_xticks([t for t in range(-9,1,1)])\n",
    "    ax.set_xticklabels([f'{t}' for t in range(-9,1,1)])    \n",
    "    #ax.set_title(r'Stratified CoxPH for $\\beta_1$ Estimation', fontsize=fontsize)\n",
    "    ax.set_title(r'$\\beta_1$', fontsize=fontsize)\n",
    "\n",
    "    \n",
    "    chosen_lambda = -5.75\n",
    "\n",
    "    ax.tick_params(axis='y', colors='g')\n",
    "    ax.axvline(chosen_lambda, color='tab:blue', alpha=0.1, ls='--', lw=1)\n",
    "\n",
    "    \n",
    "    if idp == 0:\n",
    "        #ax.legend()\n",
    "        ax2 = ax.twinx()\n",
    "        ax2.set_ylabel('5-Folds Median \\n Number of Coefficients', fontsize=fontsize)\n",
    "        ax2.set_ylim([-0.3, 10])\n",
    "\n",
    "    ax2.scatter(np.log(penalizer), mean_sign_1, color='k', alpha=0.8, marker='P')\n",
    "    ax2.tick_params(axis='y', colors='k')\n",
    "\n",
    "    ax = axes[1, 0]\n",
    "    add_panel_text(ax, 'b', fsz=fontsize)\n",
    "\n",
    "    if mode == 'score':\n",
    "        ax.scatter(np.log(penalizer), sum_2, color='g', alpha=0.8, label='Mean')\n",
    "    else:\n",
    "        ax.errorbar(np.log(penalizer), mean_likelihood_2, yerr=err_2, fmt=\"o\", color='g', alpha=0.5)\n",
    "\n",
    "    ax.set_xlabel(r'log($\\lambda$)', fontsize=fontsize)\n",
    "    ax.set_ylabel('Log-Partial Likelihood', fontsize=fontsize, color='g')\n",
    "    ax.set_xticks([t for t in range(-9,1,1)])\n",
    "    ax.set_xticklabels([f'{t}' for t in range(-9,1,1)])\n",
    "    #ax.set_title(r'Stratified CoxPH for $\\beta_2$ Estimation', fontsize=fontsize)\n",
    "    ax.set_title(r'$\\beta_2$', fontsize=fontsize)\n",
    "\n",
    "    ax.axvline(chosen_lambda, color='tab:blue', alpha=0.1, ls='--', lw=1)\n",
    "    ax.tick_params(axis='y', colors='g')\n",
    "\n",
    "    if idp == 0:\n",
    "        #ax.legend()\n",
    "        ax3 = ax.twinx()\n",
    "        ax3.set_ylabel('5-Folds Median \\n Number of Coefficients', fontsize=fontsize)\n",
    "        ax3.set_ylim([-0.3, 10])\n",
    "    \n",
    "    ax3.scatter(np.log(penalizer), mean_sign_2, color='k', alpha=0.8, marker='P')\n",
    "    \n",
    "for idp, penalizer in enumerate(penalizers):\n",
    "    \n",
    "    ser_1 = models[penalizer].beta_models[1].params_\n",
    "    ser_1.name = penalizer\n",
    "    ser_2 = models[penalizer].beta_models[2].params_ \n",
    "    ser_2.name = penalizer    \n",
    "    \n",
    "    if idp == 0:\n",
    "        j1_params_df = ser_1.to_frame()\n",
    "        j2_params_df = ser_2.to_frame()\n",
    "    else:\n",
    "        j1_params_df = pd.concat([j1_params_df, ser_1], axis=1)\n",
    "        j2_params_df = pd.concat([j2_params_df, ser_2], axis=1)\n",
    "        \n",
    "        \n",
    "for i in range(n_cov):\n",
    "    ax = axes[0, 1]\n",
    "    add_panel_text(ax, 'c', fsz=fontsize)\n",
    "\n",
    "    ax.plot(penalizers, j1_params_df.iloc[i].values, label=f'Z{i}', lw=1)\n",
    "\n",
    "    if i == 0:\n",
    "        ax.set_xlim([0, 0.03])\n",
    "        ax.set_ylabel('5-Fold Mean Coefficient', fontsize=fontsize, color='brown')\n",
    "        ax.set_xlabel(r'$\\lambda$', fontsize=fontsize)\n",
    "        ax.set_title(r'$\\beta_1$', fontsize=fontsize)\n",
    "        ax.axvline(np.exp(chosen_lambda), color='tab:blue', alpha=1, ls='--', lw=1)\n",
    "    \n",
    "    ax.tick_params(axis='y', colors='brown')\n",
    "    \n",
    "    ax = axes[1, 1]\n",
    "    add_panel_text(ax, 'd', fsz=fontsize)\n",
    "\n",
    "    ax.plot(penalizers, j2_params_df.iloc[i].values, label=f'Z{i}', lw=1)\n",
    "\n",
    "    if i == 0:\n",
    "        ax.set_xlim([0, 0.03])\n",
    "        ax.set_ylabel('5-Fold Mean Coefficient', fontsize=fontsize, color='brown')\n",
    "        ax.set_xlabel(r'$\\lambda$', fontsize=fontsize)\n",
    "        ax.set_title(r'$\\beta_2$', fontsize=fontsize)\n",
    "        ax.axvline(np.exp(chosen_lambda), color='tab:blue', alpha=1, ls='--', lw=1)\n",
    "    \n",
    "    ax.tick_params(axis='y', colors='brown')\n",
    "\n",
    "fig.tight_layout()\n",
    "\n",
    "fig.savefig(os.path.join(OUTPUT_DIR, 'rerun_regularization_effect_additional.png'), dpi=300)"
   ]
  },
  {
   "cell_type": "code",
   "execution_count": null,
   "metadata": {
    "pycharm": {
     "name": "#%%\n"
    }
   },
   "outputs": [],
   "source": [
    "events = pd.DataFrame()\n",
    "\n",
    "for idp, penalizer in enumerate(penalizers):\n",
    "    event_1 = models[penalizer].beta_models[1].summary[['coef', 'p']]\n",
    "    event_1 = event_1[event_1['p'] <= p_threshold]\n",
    "    event_1.columns = ['Estimate', 'P-value']\n",
    "\n",
    "    event_2 = models[penalizer].beta_models[2].summary[['coef', 'p']]\n",
    "    event_2 = event_2[event_2['p'] <= p_threshold]\n",
    "    event_2.columns = ['Estimate', 'P-value']\n",
    "    \n",
    "    events = pd.concat([events, \n",
    "                        pd.concat([pd.concat([event_1, event_2], keys=['1', '2'])], keys=[np.log(penalizer)])])\n",
    "\n",
    "events.index = events.index.set_names([r'Log($\\lambda$)', 'J', 'Covariate'])\n",
    "events['True'] = np.nan\n",
    "\n",
    "for idx, row in events.iterrows():\n",
    "    events.loc[idx, 'True'] = real_coef_dict['beta'][int(idx[1])][int(idx[2].replace('Z', '')) - 1]"
   ]
  },
  {
   "cell_type": "code",
   "execution_count": null,
   "metadata": {
    "pycharm": {
     "name": "#%%\n"
    },
    "scrolled": false
   },
   "outputs": [],
   "source": [
    "tmp = events.groupby([r'Log($\\lambda$)', 'J'])['True'].value_counts() \n",
    "fp = tmp.loc[slicer[:, :, 0]].to_frame()\n",
    "fp.columns = ['False Positives']\n",
    "fp.unstack('J').astype(int)"
   ]
  },
  {
   "cell_type": "code",
   "execution_count": null,
   "metadata": {
    "pycharm": {
     "name": "#%%\n"
    }
   },
   "outputs": [],
   "source": [
    "tmp = events.loc[slicer[:, :, ['Z1', 'Z2', 'Z3', 'Z4', 'Z5']]].groupby([r'Log($\\lambda$)', 'J'])['Estimate'].count()\n",
    "tmp = tmp.to_frame()\n",
    "tmp.columns = ['True Positives']\n",
    "tp = tmp.copy()\n",
    "tp.unstack(['J']).fillna(0).astype(int)"
   ]
  },
  {
   "cell_type": "code",
   "execution_count": null,
   "metadata": {
    "pycharm": {
     "name": "#%%\n"
    }
   },
   "outputs": [],
   "source": [
    "print(pd.concat([fp.unstack('J'), tp.unstack(['J'])], axis=1).fillna(0).astype(int).to_latex(escape=False))"
   ]
  },
  {
   "cell_type": "code",
   "execution_count": null,
   "metadata": {
    "pycharm": {
     "name": "#%%\n"
    }
   },
   "outputs": [],
   "source": []
  }
 ],
 "metadata": {
  "kernelspec": {
   "display_name": "py39-dtsp",
   "language": "python",
   "name": "py39-dtsp"
  },
  "language_info": {
   "codemirror_mode": {
    "name": "ipython",
    "version": 3
   },
   "file_extension": ".py",
   "mimetype": "text/x-python",
   "name": "python",
   "nbconvert_exporter": "python",
   "pygments_lexer": "ipython3",
   "version": "3.9.15"
  },
  "vscode": {
   "interpreter": {
    "hash": "31f2aee4e71d21fbe5cf8b01ff0e069b9275f58929596ceb00d14d90e3e16cd6"
   }
  }
 },
 "nbformat": 4,
 "nbformat_minor": 2
}