{
 "cells": [
  {
   "cell_type": "code",
   "execution_count": null,
   "metadata": {
    "pycharm": {
     "name": "#%%\n"
    }
   },
   "outputs": [],
   "source": [
    "import pandas as pd\n",
    "import numpy as np\n",
    "import os\n",
    "from time import time\n",
    "from sklearn.model_selection import train_test_split\n",
    "from pydts.examples_utils.generate_simulations_data import generate_quick_start_df\n",
    "from pydts.examples_utils.plots import plot_example_pred_output\n",
    "from pydts.examples_utils.plots import add_panel_text\n",
    "from pydts.cross_validation import TwoStagesCV, PenaltyGridSearchCV\n",
    "from pydts.fitters import TwoStagesFitter, DataExpansionFitter\n",
    "from pydts.evaluation import *\n",
    "from pydts.data_generation import EventTimesSampler\n",
    "from matplotlib import pyplot as plt\n",
    "import warnings\n",
    "import pickle\n",
    "from copy import deepcopy\n",
    "from sklearn.model_selection import KFold\n",
    "pd.set_option(\"display.max_rows\", 500)\n",
    "warnings.filterwarnings('ignore')\n",
    "%matplotlib inline\n",
    "slicer = pd.IndexSlice"
   ]
  },
  {
   "cell_type": "code",
   "execution_count": null,
   "metadata": {
    "pycharm": {
     "name": "#%%\n"
    }
   },
   "outputs": [],
   "source": [
    "OUTPUT_DIR = '/app/output'"
   ]
  },
  {
   "cell_type": "markdown",
   "metadata": {
    "pycharm": {
     "name": "#%% md\n"
    }
   },
   "source": [
    "# Sampling data"
   ]
  },
  {
   "cell_type": "code",
   "execution_count": null,
   "metadata": {},
   "outputs": [],
   "source": [
    "n_cov = 100\n",
    "beta1 = np.zeros(n_cov)\n",
    "beta1[:5] = [1.2, 1.5, -1, -0.3, -1.2]\n",
    "beta2 = np.zeros(n_cov)\n",
    "beta2[:5] = [-1.2, 1, 1, -1, 1.4]\n",
    "\n",
    "\n",
    "real_coef_dict = {\n",
    "    \"alpha\": {\n",
    "        1: lambda t: -3.4 - 0.1 * np.log(t),\n",
    "        2: lambda t: -3.4 - 0.2 * np.log(t)\n",
    "    },\n",
    "    \"beta\": {\n",
    "        1: beta1,\n",
    "        2: beta2\n",
    "    }\n",
    "}\n",
    "\n",
    "n_patients = 10000\n",
    "d_times = 15\n",
    "j_events = 2\n",
    "\n",
    "ets = EventTimesSampler(d_times=d_times, j_event_types=j_events)\n",
    "\n",
    "seed = 0\n",
    "means_vector = np.zeros(n_cov)\n",
    "covariance_matrix = 0.4*np.identity(n_cov)\n",
    "clip_value = 1.5\n",
    "\n",
    "covariates = [f'Z{i + 1}' for i in range(n_cov)]\n",
    "\n",
    "patients_df = pd.DataFrame(data=pd.DataFrame(data=np.random.multivariate_normal(means_vector, covariance_matrix,\n",
    "                                                                                size=n_patients),\n",
    "                                             columns=covariates))\n",
    "patients_df.clip(lower= -1 * clip_value, upper=clip_value, inplace=True)\n",
    "patients_df = ets.sample_event_times(patients_df, hazard_coefs=real_coef_dict, seed=seed)\n",
    "patients_df = ets.sample_independent_lof_censoring(patients_df, prob_lof_at_t=0.01 * np.ones_like(ets.times[:-1]),\n",
    "                                                   seed=seed + 1)\n",
    "patients_df = ets.update_event_or_lof(patients_df)\n",
    "patients_df.index.name = 'pid'\n",
    "patients_df = patients_df.reset_index()"
   ]
  },
  {
   "cell_type": "code",
   "execution_count": null,
   "metadata": {
    "pycharm": {
     "name": "#%%\n"
    }
   },
   "outputs": [],
   "source": [
    "from pydts.examples_utils.plots import plot_events_occurrence\n",
    "plot_events_occurrence(patients_df)"
   ]
  },
  {
   "cell_type": "code",
   "execution_count": null,
   "metadata": {},
   "outputs": [],
   "source": [
    "patients_df.groupby(['X', 'J']).size()"
   ]
  },
  {
   "cell_type": "code",
   "execution_count": null,
   "metadata": {},
   "outputs": [],
   "source": [
    "step = 0.25\n",
    "penalizers = np.arange(-8, -2.3, step=step) \n",
    "n_splits = 5\n",
    "seed = 1"
   ]
  },
  {
   "cell_type": "code",
   "execution_count": null,
   "metadata": {},
   "outputs": [],
   "source": [
    "penalty_cv_search = PenaltyGridSearchCV()\n",
    "gauc_cv_results = penalty_cv_search.cross_validate(full_df=patients_df, l1_ratio=1, penalizers=np.exp(penalizers),  n_splits=n_splits, seed=seed)\n",
    "gauc_cv_results"
   ]
  },
  {
   "cell_type": "code",
   "execution_count": null,
   "metadata": {},
   "outputs": [],
   "source": [
    "# with open(os.path.join(OUTPUT_DIR, 'reg_penalty_cv_search.pkl'), 'rb') as f:\n",
    "#     penalty_cv_search = pickle.load(f)"
   ]
  },
  {
   "cell_type": "code",
   "execution_count": null,
   "metadata": {},
   "outputs": [],
   "source": [
    "chosen_eta = np.log(gauc_cv_results['Mean'].idxmax())\n",
    "chosen_eta"
   ]
  },
  {
   "cell_type": "code",
   "execution_count": null,
   "metadata": {},
   "outputs": [],
   "source": [
    "chosen_auc_df = pd.DataFrame()\n",
    "for i_fold in range(n_splits):\n",
    "    mixed_two_step = penalty_cv_search.folds_grids[i_fold].get_mixed_two_stages_fitter(np.exp(chosen_eta))\n",
    "    test_df = patients_df[patients_df['pid'].isin(penalty_cv_search.test_pids[i_fold])]\n",
    "    pred_df = mixed_two_step.predict_prob_events(test_df)\n",
    "    auc_t = events_auc_at_t(pred_df)\n",
    "    chosen_auc_df = pd.concat([chosen_auc_df, pd.concat([auc_t], keys=[i_fold])])\n",
    "\n",
    "chosen_auc_df"
   ]
  },
  {
   "cell_type": "code",
   "execution_count": null,
   "metadata": {},
   "outputs": [],
   "source": [
    "chosen_gauc = []\n",
    "chosen_iauc1 = []\n",
    "chosen_iauc2 = []\n",
    "chosen_gbs = []\n",
    "chosen_ibs1 = []\n",
    "chosen_ibs2 = []\n",
    "\n",
    "for i_fold in range(n_splits):\n",
    "    mixed_two_step = penalty_cv_search.folds_grids[i_fold].get_mixed_two_stages_fitter(np.exp(chosen_eta))\n",
    "    test_df = patients_df[patients_df['pid'].isin(penalty_cv_search.test_pids[i_fold])]\n",
    "    pred_df = mixed_two_step.predict_prob_events(test_df)\n",
    "    chosen_gauc.append(global_auc(pred_df))\n",
    "    chosen_gbs.append(global_brier_score(pred_df))\n",
    "    iauc = events_integrated_auc(pred_df)\n",
    "    ibs = events_integrated_brier_score(pred_df)\n",
    "    chosen_iauc1.append(iauc[1])\n",
    "    chosen_iauc2.append(iauc[2])\n",
    "    chosen_ibs1.append(ibs[1])\n",
    "    chosen_ibs2.append(ibs[2])"
   ]
  },
  {
   "cell_type": "code",
   "execution_count": null,
   "metadata": {},
   "outputs": [],
   "source": [
    "print(np.mean(chosen_gauc).round(3), np.std(chosen_gauc).round(3)) \n",
    "print(np.mean(chosen_iauc1).round(3), np.std(chosen_iauc1).round(3)) \n",
    "print(np.mean(chosen_iauc2).round(3), np.std(chosen_iauc2).round(3)) \n",
    "print(np.mean(chosen_gbs).round(3), np.std(chosen_gbs).round(3)) \n",
    "print(np.mean(chosen_ibs1).round(3), np.std(chosen_ibs1).round(3)) \n",
    "print(np.mean(chosen_ibs2).round(3), np.std(chosen_ibs2).round(3)) "
   ]
  },
  {
   "cell_type": "code",
   "execution_count": null,
   "metadata": {},
   "outputs": [],
   "source": [
    "counts = patients_df.groupby(['J', 'X'])['pid'].count().unstack('J').fillna(0)"
   ]
  },
  {
   "cell_type": "code",
   "execution_count": null,
   "metadata": {},
   "outputs": [],
   "source": [
    "ticksize = 15\n",
    "axes_title_fontsize = 17\n",
    "legend_size = 13\n",
    "\n",
    "risk_names = []\n",
    "risk_colors = ['tab:blue', 'tab:green', 'tab:red']\n",
    "abc_letters = ['a', 'b'] \n",
    "def_letters = ['c', 'd']\n",
    "ghi_letters = ['e', 'f']\n",
    "\n",
    "fig, axes = plt.subplots(3, 2, figsize=(13, 15))\n",
    "\n",
    "for risk in [1, 2]:\n",
    "    nonzero_count = pd.DataFrame(index=list(range(n_splits)), columns=penalizers)\n",
    "    for idp, penalizer in enumerate(penalizers):\n",
    "\n",
    "        tmp_j1_params_df = pd.DataFrame()\n",
    "        for i_fold in range(n_splits):\n",
    "            params_ser = penalty_cv_search.folds_grids[i_fold].meta_models[np.exp(penalizer)].beta_models[risk].params_\n",
    "            nonzero_count.loc[i_fold, penalizer] = (params_ser.round(3).abs() > 0).sum()\n",
    "            tmp_j1_params_df = pd.concat([tmp_j1_params_df, params_ser], axis=1)\n",
    "\n",
    "        ser_1 = tmp_j1_params_df.mean(axis=1) \n",
    "        ser_1.name = penalizer\n",
    "\n",
    "        if idp == 0:\n",
    "            j1_params_df = ser_1.to_frame()\n",
    "        else:\n",
    "            j1_params_df = pd.concat([j1_params_df, ser_1], axis=1)\n",
    "\n",
    "    ax = axes[0, risk-1]\n",
    "    add_panel_text(ax, abc_letters[risk-1])\n",
    "    ax.tick_params(axis='both', which='major', labelsize=ticksize)\n",
    "    ax.tick_params(axis='both', which='minor', labelsize=ticksize)\n",
    "    ax.set_xlabel(fr'Log ($\\eta_{risk}$)', fontsize=axes_title_fontsize)\n",
    "    ax.set_ylabel(f'Number of Non-Zero Coefficients', fontsize=axes_title_fontsize)\n",
    "    ax.set_title(rf'$\\beta_{risk}$', fontsize=axes_title_fontsize)\n",
    "    ax.axhline(5, ls='--', color='k', alpha=0.3, label='True Value')\n",
    "    ax.axvline(chosen_eta[risk-1], color=risk_colors[risk-1], alpha=1, ls='--', lw=1, label=rf'Chosen $Log (\\eta_{risk})$')\n",
    "    ax.set_ylim([0,100])\n",
    "\n",
    "    for idp, penalizer in enumerate(penalizers):\n",
    "\n",
    "        count = nonzero_count[penalizer].mean()\n",
    "        if idp == 0:\n",
    "            ax.scatter(penalizer, count, color=risk_colors[risk-1], alpha=0.8, marker='P', label=f'{n_splits}-Fold mean')\n",
    "        else:\n",
    "            ax.scatter(penalizer, count, color=risk_colors[risk-1], alpha=0.8, marker='P')\n",
    "        if penalizer == chosen_eta[risk-1]:\n",
    "           print(f\"Risk {risk}: {count} non-zero coefficients at chosen eta {chosen_eta[risk-1]}\")\n",
    "    \n",
    "    ax.legend(fontsize=legend_size)\n",
    "\n",
    "    ax = axes[1, risk-1]\n",
    "    add_panel_text(ax, def_letters[risk-1])\n",
    "    ax.tick_params(axis='both', which='major', labelsize=ticksize)\n",
    "    ax.tick_params(axis='both', which='minor', labelsize=ticksize)\n",
    "    for i in range(len(j1_params_df)):\n",
    "        ax.plot(penalizers, j1_params_df.iloc[i].values, lw=1)\n",
    "\n",
    "        if i == 0:\n",
    "            ax.set_ylabel(f'{n_splits}-Fold Mean Coefficient Value', fontsize=axes_title_fontsize)\n",
    "            ax.set_xlabel(fr'Log ($\\eta_{risk}$)', fontsize=axes_title_fontsize)\n",
    "            ax.set_title(rf'$\\beta_{risk}$', fontsize=axes_title_fontsize)\n",
    "            ax.axvline(chosen_eta[risk-1], color=risk_colors[risk-1], alpha=1, ls='--', lw=1)\n",
    "\n",
    "    ax = axes[2, risk-1]\n",
    "    add_panel_text(ax, ghi_letters[risk-1])\n",
    "    ax.tick_params(axis='both', which='major', labelsize=ticksize)\n",
    "    ax.tick_params(axis='both', which='minor', labelsize=ticksize)\n",
    "    mean_auc = chosen_auc_df.loc[slicer[:, risk], :].mean(axis=0)\n",
    "    std_auc = chosen_auc_df.loc[slicer[:, risk], :].std(axis=0)\n",
    "    ax.errorbar(mean_auc.index, mean_auc.values, yerr=std_auc.values, fmt=\"o\", color=risk_colors[risk-1], alpha=0.8)\n",
    "    ax.set_yticks(np.arange(0, 1.1, 0.1))\n",
    "    ax.set_yticklabels([c.round(1) for c in np.arange(0, 1.1, 0.1)])\n",
    "    ax.set_xlabel(r'Time', fontsize=axes_title_fontsize)\n",
    "    ax.set_ylabel(fr'AUC$_{risk} (t)$', fontsize=axes_title_fontsize)\n",
    "    ax.set_title(fr'Log ($\\eta_{risk}$) = {chosen_eta[risk-1]}', fontsize=axes_title_fontsize)\n",
    "    ax.set_ylim([0,1])\n",
    "    l = 16\n",
    "    ax.set_xticks(range(l))\n",
    "    ax.set_xticklabels([f'{x}' for x in range(l)])\n",
    "\n",
    "    ax.axhline(0.5, ls='--', color='k', alpha=0.3)\n",
    "    ax2 = ax.twinx()\n",
    "    ax2.bar(counts.index, counts[risk].values.squeeze(), color=risk_colors[risk-1], alpha=0.8, width=0.4)\n",
    "    ax2.set_ylabel('Number of observed events', fontsize=axes_title_fontsize, color=risk_colors[risk-1])\n",
    "    ax2.tick_params(axis='y', colors=risk_colors[risk-1])\n",
    "    ax2.set_ylim([0, 1700])\n",
    "    ax2.tick_params(axis='both', which='major', labelsize=ticksize)\n",
    "    ax2.tick_params(axis='both', which='minor', labelsize=ticksize)\n",
    "\n",
    "fig.tight_layout()\n",
    "\n",
    "fig.savefig(os.path.join(OUTPUT_DIR, 'regularization_sim.png'), dpi=800)"
   ]
  },
  {
   "cell_type": "code",
   "execution_count": null,
   "metadata": {},
   "outputs": [],
   "source": [
    "start = time()\n",
    "cross_validator_null = TwoStagesCV()\n",
    "cross_validator_null.cross_validate(full_df=patients_df, n_splits=n_splits, seed=seed, nb_workers=1)\n",
    "end = time()\n",
    "print(f\"Finished {int(end-start)} seconds\")"
   ]
  },
  {
   "cell_type": "code",
   "execution_count": null,
   "metadata": {},
   "outputs": [],
   "source": [
    "cross_validator_null.global_auc"
   ]
  },
  {
   "cell_type": "code",
   "execution_count": null,
   "metadata": {},
   "outputs": [],
   "source": [
    "np.mean(list(cross_validator_null.global_auc.values())).round(3)"
   ]
  },
  {
   "cell_type": "code",
   "execution_count": null,
   "metadata": {},
   "outputs": [],
   "source": [
    "np.std(list(cross_validator_null.global_auc.values())).round(3)"
   ]
  },
  {
   "cell_type": "code",
   "execution_count": null,
   "metadata": {},
   "outputs": [],
   "source": [
    "pd.DataFrame.from_records(cross_validator_null.integrated_auc).mean(axis=1).round(3)"
   ]
  },
  {
   "cell_type": "code",
   "execution_count": null,
   "metadata": {},
   "outputs": [],
   "source": [
    "pd.DataFrame.from_records(cross_validator_null.integrated_auc).std(axis=1).round(3)"
   ]
  },
  {
   "cell_type": "code",
   "execution_count": null,
   "metadata": {},
   "outputs": [],
   "source": [
    "# with open(os.path.join(OUTPUT_DIR, 'reg_penalty_cv_search.pkl'), 'wb') as f:\n",
    "#     pickle.dump(penalty_cv_search, f)"
   ]
  }
 ],
 "metadata": {
  "kernelspec": {
   "display_name": "Python 3",
   "language": "python",
   "name": "python3"
  },
  "language_info": {
   "codemirror_mode": {
    "name": "ipython",
    "version": 3
   },
   "file_extension": ".py",
   "mimetype": "text/x-python",
   "name": "python",
   "nbconvert_exporter": "python",
   "pygments_lexer": "ipython3",
   "version": "3.10.6"
  },
  "vscode": {
   "interpreter": {
    "hash": "31f2aee4e71d21fbe5cf8b01ff0e069b9275f58929596ceb00d14d90e3e16cd6"
   }
  }
 },
 "nbformat": 4,
 "nbformat_minor": 2
}
