{
 "cells": [
  {
   "cell_type": "code",
   "execution_count": null,
   "metadata": {
    "pycharm": {
     "name": "#%%\n"
    }
   },
   "outputs": [],
   "source": [
    "import pandas as pd\n",
    "import numpy as np\n",
    "import os\n",
    "from time import time\n",
    "from sklearn.model_selection import train_test_split\n",
    "from pydts.examples_utils.generate_simulations_data import generate_quick_start_df\n",
    "from pydts.examples_utils.plots import plot_example_pred_output\n",
    "from pydts.examples_utils.plots import add_panel_text\n",
    "from pydts.cross_validation import TwoStagesCV\n",
    "from pydts.fitters import TwoStagesFitter, DataExpansionFitter\n",
    "\n",
    "from pydts.data_generation import EventTimesSampler\n",
    "from matplotlib import pyplot as plt\n",
    "import warnings\n",
    "import pickle\n",
    "from copy import deepcopy\n",
    "from sklearn.model_selection import KFold\n",
    "pd.set_option(\"display.max_rows\", 500)\n",
    "warnings.filterwarnings('ignore')\n",
    "%matplotlib inline\n",
    "slicer = pd.IndexSlice"
   ]
  },
  {
   "cell_type": "code",
   "execution_count": null,
   "metadata": {
    "pycharm": {
     "name": "#%%\n"
    }
   },
   "outputs": [],
   "source": [
    "OUTPUT_DIR = '/app/output'"
   ]
  },
  {
   "cell_type": "code",
   "execution_count": null,
   "metadata": {},
   "outputs": [],
   "source": [
    "file_number = 2\n",
    "runs = 100\n",
    "\n",
    "\n",
    "n_cov = 100\n",
    "beta1 = np.zeros(n_cov)\n",
    "beta1[:5] = [1.2, 1.5, -1, -0.3, -1.2]\n",
    "beta2 = np.zeros(n_cov)\n",
    "beta2[:5] = [-1.2, 1, 1, -1, 1.4]\n",
    "\n",
    "\n",
    "real_coef_dict = {\n",
    "    \"alpha\": {\n",
    "        1: lambda t: -3.4 - 0.1 * np.log(t),\n",
    "        2: lambda t: -3.4 - 0.2 * np.log(t)\n",
    "    },\n",
    "    \"beta\": {\n",
    "        1: beta1,\n",
    "        2: beta2\n",
    "    }\n",
    "}\n",
    "\n",
    "n_patients = 10000\n",
    "d_times = 15\n",
    "j_events = 2\n",
    "\n",
    "\n",
    "\n",
    "for run in range(runs):\n",
    "    try:\n",
    "        ets = EventTimesSampler(d_times=d_times, j_event_types=j_events)\n",
    "\n",
    "        seed = 100*file_number + run\n",
    "        print(run, seed)\n",
    "        np.random.seed(seed)\n",
    "        means_vector = np.zeros(n_cov)\n",
    "        covariance_matrix = 0.4*np.identity(n_cov)\n",
    "        clip_value = 1.5\n",
    "\n",
    "        covariates = [f'Z{i + 1}' for i in range(n_cov)]\n",
    "\n",
    "        patients_df = pd.DataFrame(data=pd.DataFrame(data=np.random.multivariate_normal(means_vector, covariance_matrix,\n",
    "                                                                                        size=n_patients),\n",
    "                                                     columns=covariates))\n",
    "        patients_df.clip(lower= -1 * clip_value, upper=clip_value, inplace=True)\n",
    "        patients_df = ets.sample_event_times(patients_df, hazard_coefs=real_coef_dict, seed=seed)\n",
    "        patients_df = ets.sample_independent_lof_censoring(patients_df, prob_lof_at_t=0.01 * np.ones_like(ets.times),\n",
    "                                                           seed=seed + 1)\n",
    "        patients_df = ets.update_event_or_lof(patients_df)\n",
    "        patients_df.index.name = 'pid'\n",
    "        patients_df = patients_df.reset_index()\n",
    "\n",
    "\n",
    "        step = 0.25\n",
    "        penalizers = np.arange(-7, -4.4, step=step) \n",
    "        n_splits = 5\n",
    "\n",
    "        cross_validators = {}\n",
    "\n",
    "        for idp, penalizer in enumerate(penalizers):\n",
    "            print(f\"Started Penalizer: {penalizer}, {idp+1}/{len(penalizers)}\")\n",
    "            fit_beta_kwargs = {\n",
    "                    'model_kwargs': {\n",
    "                    'penalizer': np.exp(penalizer),\n",
    "                    'l1_ratio': 1\n",
    "                }\n",
    "            }\n",
    "            start = time()\n",
    "            cross_validators[penalizer] = TwoStagesCV()\n",
    "            cross_validators[penalizer].cross_validate(full_df=patients_df, n_splits=n_splits, seed=seed, nb_workers=1, \n",
    "                                                       fit_beta_kwargs=fit_beta_kwargs)\n",
    "            end = time()\n",
    "            print(f\"Finished Penalizer: {penalizer}, {idp+1}/{len(penalizers)}, {int(end-start)} seconds\")\n",
    "        \n",
    "        with open(os.path.join(OUTPUT_DIR, f'FP-FN_cross_validators_{seed}.pkl'), 'wb') as f:\n",
    "            pickle.dump(cross_validators, f)\n",
    "\n",
    "    except Exception as e:\n",
    "        print(f\"Run {run} failed: {seed}, {e}\")\n",
    "    \n",
    "    \n",
    "\n",
    "    \n",
    "penalizers_x, mean_gauc, std_gauc = [], [], []\n",
    "for penalizer in sorted(cross_validators.keys()):\n",
    "    ser = pd.Series(cross_validators[penalizer].global_auc)\n",
    "    penalizers_x.append(penalizer)\n",
    "    mean_gauc.append(ser.mean())"
   ]
  }
 ],
 "metadata": {
  "kernelspec": {
   "display_name": "Python 3",
   "language": "python",
   "name": "python3"
  },
  "language_info": {
   "codemirror_mode": {
    "name": "ipython",
    "version": 3
   },
   "file_extension": ".py",
   "mimetype": "text/x-python",
   "name": "python",
   "nbconvert_exporter": "python",
   "pygments_lexer": "ipython3",
   "version": "3.10.6 (main, Nov 14 2022, 16:10:14) [GCC 11.3.0]"
  },
  "vscode": {
   "interpreter": {
    "hash": "31f2aee4e71d21fbe5cf8b01ff0e069b9275f58929596ceb00d14d90e3e16cd6"
   }
  }
 },
 "nbformat": 4,
 "nbformat_minor": 2
}
