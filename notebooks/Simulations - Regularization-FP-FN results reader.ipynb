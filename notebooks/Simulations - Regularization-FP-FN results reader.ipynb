{
 "cells": [
  {
   "cell_type": "code",
   "execution_count": null,
   "metadata": {
    "ExecuteTime": {
     "end_time": "2023-02-14T09:17:14.943661Z",
     "start_time": "2023-02-14T09:17:14.514248Z"
    },
    "pycharm": {
     "name": "#%%\n"
    }
   },
   "outputs": [],
   "source": [
    "import pandas as pd\n",
    "import numpy as np\n",
    "import os\n",
    "import pickle\n",
    "pd.set_option(\"display.max_rows\", 500)\n",
    "%matplotlib inline"
   ]
  },
  {
   "cell_type": "code",
   "execution_count": null,
   "metadata": {
    "ExecuteTime": {
     "end_time": "2023-02-14T09:17:15.399539Z",
     "start_time": "2023-02-14T09:17:15.382938Z"
    },
    "pycharm": {
     "name": "#%%\n"
    }
   },
   "outputs": [],
   "source": [
    "def get_run_gauc_penalizer(cross_validators, run_number):\n",
    "    penalizers = []\n",
    "    mean_gauc = []\n",
    "    for idp, penalizer in enumerate(sorted(cross_validators.keys())):\n",
    "        mean_gauc.append(np.mean(list(cross_validators[penalizer].global_auc.values())))\n",
    "        penalizers.append(penalizer)\n",
    "    return pd.Series(mean_gauc, index=penalizers, name=run_number)\n",
    "\n",
    "def get_run_FP_FN_df(cross_validators, j_events=2, n_splits=5):\n",
    "    total_positives_df = pd.DataFrame()\n",
    "    gauc = []\n",
    "    for risk in range(1, j_events+1):\n",
    "        for idp, penalizer in enumerate(cross_validators.keys()):\n",
    "            \n",
    "            tmp_gauc = np.mean(list(cross_validators[penalizer].global_auc.values()))\n",
    "            \n",
    "            tmp_j1_params_df = pd.DataFrame()\n",
    "            for i_fold in range(n_splits):\n",
    "                tmp_j1_params_df = pd.concat([tmp_j1_params_df, cross_validators[penalizer].models[i_fold].beta_models[risk].params_], axis=1)\n",
    "                \n",
    "            ser_1 = tmp_j1_params_df.mean(axis=1) \n",
    "            ser_1.name = penalizer\n",
    "\n",
    "            if idp == 0:\n",
    "                j1_params_df = ser_1.to_frame()\n",
    "            else:\n",
    "                j1_params_df = pd.concat([j1_params_df, ser_1], axis=1)\n",
    "\n",
    "            j1_params_df = j1_params_df.round(4)  \n",
    "\n",
    "            true_positives = (j1_params_df.abs() > 0).iloc[:5].sum()\n",
    "            true_positives.name = 'True Positives'\n",
    "            false_positives = (j1_params_df.abs() > 0).iloc[5:].sum()\n",
    "            false_positives.name = 'False Positives'\n",
    "\n",
    "            positives_df = pd.concat([true_positives, false_positives], axis=1)\n",
    "            positives_df.index.name = r'Log ($\\eta$)'\n",
    "        total_positives_df = pd.concat([total_positives_df, pd.concat([positives_df], keys=[fr'$\\beta_{risk}$'], axis=1)], axis=1)\n",
    "\n",
    "    return total_positives_df"
   ]
  },
  {
   "cell_type": "code",
   "execution_count": null,
   "metadata": {
    "ExecuteTime": {
     "end_time": "2023-02-14T09:17:16.091206Z",
     "start_time": "2023-02-14T09:17:16.075740Z"
    },
    "pycharm": {
     "name": "#%%\n"
    }
   },
   "outputs": [],
   "source": [
    "OUTPUT_DIR = '/app/output'"
   ]
  },
  {
   "cell_type": "code",
   "execution_count": null,
   "metadata": {
    "ExecuteTime": {
     "end_time": "2023-02-14T09:17:16.616538Z",
     "start_time": "2023-02-14T09:17:16.595917Z"
    },
    "pycharm": {
     "name": "#%%\n"
    }
   },
   "outputs": [],
   "source": [
    "files_list = sorted([f for f in os.listdir(OUTPUT_DIR) if 'FP-FN_cross_validators_' in f])\n",
    "files_list"
   ]
  },
  {
   "cell_type": "code",
   "execution_count": null,
   "metadata": {
    "ExecuteTime": {
     "end_time": "2023-02-14T09:17:24.111701Z",
     "start_time": "2023-02-14T09:17:17.159273Z"
    },
    "pycharm": {
     "name": "#%%\n"
    }
   },
   "outputs": [],
   "source": [
    "all_runs = pd.DataFrame()\n",
    "gauc_df = pd.DataFrame()\n",
    "\n",
    "for file in files_list:\n",
    "    with open(os.path.join(OUTPUT_DIR, file), 'rb') as f:\n",
    "        cross_validators = pickle.load(f)\n",
    "        run_number = int(file.split('_')[-1].split('.')[0])\n",
    "        df = pd.concat([get_run_FP_FN_df(cross_validators)], axis=1, \n",
    "                       keys=[run_number])\n",
    "        all_runs = pd.concat([all_runs, df], axis=1)\n",
    "        gauc_df = pd.concat([gauc_df, get_run_gauc_penalizer(cross_validators, run_number)], axis=1)\n",
    "\n",
    "gauc_df"
   ]
  },
  {
   "cell_type": "code",
   "execution_count": null,
   "metadata": {
    "ExecuteTime": {
     "end_time": "2023-02-14T09:17:24.124756Z",
     "start_time": "2023-02-14T09:17:24.114955Z"
    },
    "pycharm": {
     "name": "#%%\n"
    }
   },
   "outputs": [],
   "source": [
    "# other_gauc_df = pd.read_csv(os.path.join(OUTPUT_DIR, 'gauc_7XX_runs.csv'), index_col=0)\n",
    "# other_all_runs = pd.read_csv(os.path.join(OUTPUT_DIR, 'all_runs_7XX_runs.csv'), index_col=0, header=[0,1,2])"
   ]
  },
  {
   "cell_type": "code",
   "execution_count": null,
   "metadata": {
    "pycharm": {
     "name": "#%%\n"
    }
   },
   "outputs": [],
   "source": [
    "# gauc_df = pd.concat([gauc_df, other_gauc_df], axis=1)\n",
    "# all_runs = pd.concat([all_runs, other_all_runs], axis=1)\n"
   ]
  },
  {
   "cell_type": "code",
   "execution_count": null,
   "metadata": {
    "pycharm": {
     "name": "#%%\n"
    }
   },
   "outputs": [],
   "source": [
    "# gauc_df = pd.read_csv(os.path.join(OUTPUT_DIR, 'gauc_all_runs.csv'), index_col=0)\n",
    "# all_runs = pd.read_csv(os.path.join(OUTPUT_DIR, 'all_runs.csv'), index_col=0, header=[0,1,2])"
   ]
  },
  {
   "cell_type": "code",
   "execution_count": null,
   "metadata": {
    "ExecuteTime": {
     "end_time": "2023-02-14T09:17:24.136652Z",
     "start_time": "2023-02-14T09:17:24.126718Z"
    },
    "pycharm": {
     "name": "#%%\n"
    }
   },
   "outputs": [],
   "source": [
    "gauc_df.idxmax(axis=0).mean()"
   ]
  },
  {
   "cell_type": "code",
   "execution_count": null,
   "metadata": {
    "pycharm": {
     "name": "#%%\n"
    }
   },
   "outputs": [],
   "source": [
    "gauc_df.idxmax(axis=0).std()"
   ]
  },
  {
   "cell_type": "code",
   "execution_count": null,
   "metadata": {
    "pycharm": {
     "name": "#%%\n"
    }
   },
   "outputs": [],
   "source": [
    "final_df = all_runs.mean(level=[1,2], axis=1)\n",
    "std_df = all_runs.std(level=[1,2], axis=1)\n",
    "for i_row in range(final_df.shape[0]):\n",
    "    for j_col in range(final_df.shape[1]):\n",
    "        final_df.iloc[i_row, j_col] = f\"{final_df.iloc[i_row, j_col]:.2f} ({std_df.iloc[i_row, j_col]:.2f})\"\n",
    "\n",
    "final_df"
   ]
  },
  {
   "cell_type": "code",
   "execution_count": null,
   "metadata": {
    "ExecuteTime": {
     "end_time": "2023-02-14T09:17:24.162122Z",
     "start_time": "2023-02-14T09:17:24.139804Z"
    },
    "pycharm": {
     "name": "#%%\n"
    }
   },
   "outputs": [],
   "source": [
    "print(final_df.to_latex(escape=False))"
   ]
  }
 ],
 "metadata": {
  "kernelspec": {
   "display_name": "Python 3",
   "language": "python",
   "name": "python3"
  },
  "language_info": {
   "codemirror_mode": {
    "name": "ipython",
    "version": 3
   },
   "file_extension": ".py",
   "mimetype": "text/x-python",
   "name": "python",
   "nbconvert_exporter": "python",
   "pygments_lexer": "ipython3",
   "version": "3.10.6 (main, Nov 14 2022, 16:10:14) [GCC 11.3.0]"
  },
  "vscode": {
   "interpreter": {
    "hash": "31f2aee4e71d21fbe5cf8b01ff0e069b9275f58929596ceb00d14d90e3e16cd6"
   }
  }
 },
 "nbformat": 4,
 "nbformat_minor": 4
}