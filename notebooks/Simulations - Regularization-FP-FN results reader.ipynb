{
 "cells": [
  {
   "cell_type": "code",
   "execution_count": null,
   "metadata": {
    "ExecuteTime": {
     "end_time": "2023-02-14T09:17:14.943661Z",
     "start_time": "2023-02-14T09:17:14.514248Z"
    },
    "pycharm": {
     "name": "#%%\n"
    }
   },
   "outputs": [],
   "source": [
    "import pandas as pd\n",
    "import numpy as np\n",
    "import os\n",
    "import pickle\n",
    "from glob import glob\n",
    "from time import time\n",
    "from itertools import product\n",
    "pd.set_option(\"display.max_rows\", 500)\n",
    "%matplotlib inline\n",
    "slicer = pd.IndexSlice"
   ]
  },
  {
   "cell_type": "code",
   "execution_count": null,
   "metadata": {},
   "outputs": [],
   "source": [
    "OUTPUT_DIR = '/app/output'"
   ]
  },
  {
   "cell_type": "code",
   "execution_count": null,
   "metadata": {},
   "outputs": [],
   "source": [
    "csv_files_list = glob(os.path.join(OUTPUT_DIR, 'FP-FN_grid_search_*.csv'))\n",
    "csv_files_list = csv_files_list[:100]\n",
    "len(csv_files_list)"
   ]
  },
  {
   "cell_type": "code",
   "execution_count": null,
   "metadata": {},
   "outputs": [],
   "source": [
    "penalizers_results = []\n",
    "run_numbers = []\n",
    "for idf, file in enumerate(csv_files_list):\n",
    "    gauc_cv_results = pd.read_csv(file, index_col=[0,1])\n",
    "    penalizers_results.append(np.log(gauc_cv_results['Mean'].idxmax()))\n",
    "    run_numbers.append(int(file.split('grid_search_')[1].replace('.csv', '')))\n",
    "\n",
    "results_df = pd.DataFrame(penalizers_results, index=run_numbers).sort_index()\n",
    "results_df.head()"
   ]
  },
  {
   "cell_type": "code",
   "execution_count": null,
   "metadata": {},
   "outputs": [],
   "source": [
    "results_df.mean(axis=0)"
   ]
  },
  {
   "cell_type": "code",
   "execution_count": null,
   "metadata": {},
   "outputs": [],
   "source": [
    "results_df.std(axis=0).round(3)"
   ]
  },
  {
   "cell_type": "code",
   "execution_count": null,
   "metadata": {},
   "outputs": [],
   "source": [
    "j_events = 2\n",
    "n_folds = 5"
   ]
  },
  {
   "cell_type": "code",
   "execution_count": null,
   "metadata": {},
   "outputs": [],
   "source": [
    "results_df"
   ]
  },
  {
   "cell_type": "code",
   "execution_count": null,
   "metadata": {},
   "outputs": [],
   "source": [
    "runs_tp_fp = pd.DataFrame(index=pd.MultiIndex.from_tuples(list(product(results_df.index, [1,2]))), columns=['TP_mean', 'FP_mean'])\n",
    "for idr, row in results_df.iterrows():\n",
    "    with open(os.path.join(OUTPUT_DIR, f'FP-FN_grid_search_{idr}.pkl'), 'rb') as f:\n",
    "        grid_search = pickle.load(f)\n",
    "\n",
    "        for risk in range(1, j_events+1):\n",
    "            n_TP, n_FP = [], [] \n",
    "            for i_fold in range(n_folds):\n",
    "                params = grid_search.folds_grids[i_fold].meta_models[np.exp(row[risk-1].round(5))].beta_models[risk].params_\n",
    "                n_TP.append((params.iloc[:5].round(4).abs() > 0).sum())\n",
    "                n_FP.append((params.iloc[5:].round(4).abs() > 0).sum())\n",
    "                \n",
    "            runs_tp_fp.loc[(idr, risk), 'TP_mean'] = np.mean(n_TP)\n",
    "            runs_tp_fp.loc[(idr, risk), 'FP_mean'] = np.mean(n_FP)"
   ]
  },
  {
   "cell_type": "code",
   "execution_count": null,
   "metadata": {
    "ExecuteTime": {
     "end_time": "2023-02-14T09:17:16.091206Z",
     "start_time": "2023-02-14T09:17:16.075740Z"
    },
    "pycharm": {
     "name": "#%%\n"
    }
   },
   "outputs": [],
   "source": [
    "runs_tp_fp.loc[slicer[:, 1], ['TP_mean', 'FP_mean']].mean(axis=0)"
   ]
  },
  {
   "cell_type": "code",
   "execution_count": null,
   "metadata": {},
   "outputs": [],
   "source": [
    "runs_tp_fp.loc[slicer[:, 2], ['TP_mean', 'FP_mean']].mean(axis=0)"
   ]
  }
 ],
 "metadata": {
  "kernelspec": {
   "display_name": "Python 3",
   "language": "python",
   "name": "python3"
  },
  "language_info": {
   "codemirror_mode": {
    "name": "ipython",
    "version": 3
   },
   "file_extension": ".py",
   "mimetype": "text/x-python",
   "name": "python",
   "nbconvert_exporter": "python",
   "pygments_lexer": "ipython3",
   "version": "3.10.6"
  },
  "vscode": {
   "interpreter": {
    "hash": "31f2aee4e71d21fbe5cf8b01ff0e069b9275f58929596ceb00d14d90e3e16cd6"
   }
  }
 },
 "nbformat": 4,
 "nbformat_minor": 4
}
