{
 "cells": [
  {
   "cell_type": "code",
   "execution_count": null,
   "id": "90be3656",
   "metadata": {
    "pycharm": {
     "name": "#%%\n"
    }
   },
   "outputs": [],
   "source": [
    "import pandas as pd\n",
    "import numpy as np\n",
    "import os\n",
    "from time import time\n",
    "from sklearn.model_selection import train_test_split\n",
    "from matplotlib import pyplot as plt\n",
    "import warnings\n",
    "pd.set_option(\"display.max_rows\", 500)\n",
    "slicer = pd.IndexSlice\n",
    "\n",
    "\n",
    "OUTPUT_DIR = ''\n",
    "\n",
    "file_number = 2\n",
    "runs = 50\n",
    "\n",
    "n_cov = 35\n",
    "beta1 = np.zeros(n_cov)\n",
    "beta1[:5] = [1.2, 1.5, -1, -0.3, -1.2]\n",
    "beta2 = np.zeros(n_cov)\n",
    "beta2[:5] = [-1.2, -1, 1.4, 1, 1]\n",
    "\n",
    "real_coef_dict = {\n",
    "    \"alpha\": {\n",
    "        1: lambda t: -4.4 + 0.3 * t,\n",
    "        2: lambda t: -4.3 + 0.3 * t\n",
    "    },\n",
    "    \"beta\": {\n",
    "        1: beta1,\n",
    "        2: beta2\n",
    "    }\n",
    "}\n",
    "\n",
    "n_patients = 500\n",
    "d_times = 10\n",
    "j_events = 2\n",
    "\n",
    "step = 0.25\n",
    "penalizers = np.arange(-6, -3.4, step=step)\n",
    "n_splits = 3\n",
    "\n",
    "means_vector = np.zeros(n_cov)\n",
    "covariance_matrix = 0.4 * np.identity(n_cov)\n",
    "clip_value = 1.5"
   ]
  },
  {
   "cell_type": "code",
   "execution_count": null,
   "id": "8e21ab2f",
   "metadata": {
    "pycharm": {
     "name": "#%%\n"
    }
   },
   "outputs": [],
   "source": [
    "gauc_files = [f for f in os.listdir(OUTPUT_DIR) if \"global_auc_\" in f]\n",
    "grid_search_files = [f for f in os.listdir(OUTPUT_DIR) if \"FP-FN_grid_search_\" in f]\n",
    "tp_fp_files = [f for f in os.listdir(OUTPUT_DIR) if \"tp_fp_\" in f]\n",
    "chosen_eta_files = [f for f in os.listdir(OUTPUT_DIR) if \"chosen_eta_\" in f]\n",
    "non_zero_count_files = [f for f in os.listdir(OUTPUT_DIR) if \"nonzero_count_\" in f]"
   ]
  },
  {
   "cell_type": "code",
   "execution_count": null,
   "id": "fc66aa49",
   "metadata": {
    "pycharm": {
     "name": "#%%\n"
    }
   },
   "outputs": [],
   "source": [
    "skipped = 0\n",
    "included = 0\n",
    "\n",
    "summary_df = pd.DataFrame()\n",
    "chosen_nonzero_df = pd.DataFrame()\n",
    "\n",
    "for f in gauc_files:\n",
    "    gauc_filename = os.path.join(OUTPUT_DIR, f)\n",
    "    gauc_df = pd.read_csv(gauc_filename, index_col=0)\n",
    "    \n",
    "    run_number = f.split('_')[-1].split('.')[0]\n",
    "    \n",
    "    if gauc_df['gauc'].isna().any():\n",
    "        skipped += 1\n",
    "        continue\n",
    "    else:\n",
    "        included += 1\n",
    "    \n",
    "    chosen_eta_df = pd.read_csv(os.path.join(OUTPUT_DIR, f'chosen_eta_{run_number}.csv'), index_col=0)\n",
    "    chosen_eta = [chosen_eta_df.iloc[0,0], chosen_eta_df.iloc[1,0]]\n",
    "    tp_fp_df = pd.read_csv(os.path.join(OUTPUT_DIR, f'tp_fp_{run_number}.csv'), index_col=0)\n",
    "    nonzero_df = pd.read_csv(os.path.join(OUTPUT_DIR, f'nonzero_count_{run_number}.csv'), index_col=0)\n",
    "\n",
    "    tmp_summary = pd.concat([pd.concat([tp_fp_df.set_index(['penalizer', 'risk', 'type']).loc[slicer[chosen_eta[0], 1, :]], \n",
    "           tp_fp_df.set_index(['penalizer', 'risk', 'type']).loc[slicer[chosen_eta[1], 2, :]]], keys=[1,2], axis=0)],\n",
    "          keys=[run_number], axis=1)\n",
    "    summary_df = pd.concat([summary_df, tmp_summary], axis=1)\n",
    "    \n",
    "    \n",
    "    tmp_nonzero = nonzero_df.reset_index()\n",
    "    tmp_nonzero.columns = ['risk', 'fold'] + [np.round(float(c), 2) for c in tmp_nonzero.columns[2:]]\n",
    "    tmp_nonzero = tmp_nonzero.set_index(['risk', 'fold']) \n",
    "\n",
    "    nonzero_df = pd.concat([tmp_nonzero.loc[slicer[1, :], np.round(float(chosen_eta[0]), 2)],\n",
    "                        tmp_nonzero.loc[slicer[2, :], np.round(float(chosen_eta[1]), 2)]])\n",
    "    nonzero_df.name = run_number\n",
    "    \n",
    "    chosen_nonzero_df = pd.concat([chosen_nonzero_df, nonzero_df], axis=1)\n",
    "    \n",
    "    if included == 100:\n",
    "        break\n",
    "\n",
    "summary_df"
   ]
  },
  {
   "cell_type": "code",
   "execution_count": null,
   "id": "e37103b1",
   "metadata": {
    "pycharm": {
     "name": "#%%\n"
    }
   },
   "outputs": [],
   "source": [
    "tmptp = summary_df.loc[slicer[1, 'TP']]\n",
    "tmptp = tmptp[tmptp == 5]\n",
    "tmpfp = summary_df.loc[slicer[1, 'FP']]\n",
    "tmpfp = tmpfp[tmpfp == 0]\n",
    "tmpfp"
   ]
  },
  {
   "cell_type": "code",
   "execution_count": null,
   "id": "0bb5cb5e",
   "metadata": {
    "pycharm": {
     "name": "#%%\n"
    }
   },
   "outputs": [],
   "source": [
    "summary_df.loc[slicer[1, :]].sum()"
   ]
  },
  {
   "cell_type": "code",
   "execution_count": null,
   "id": "783d01a1",
   "metadata": {
    "pycharm": {
     "name": "#%%\n"
    }
   },
   "outputs": [],
   "source": [
    "res_df = pd.concat([summary_df.mean(axis=1), summary_df.std(axis=1)], axis=1, keys=['Mean', 'SE'])\n",
    "res_df.index.names = ['Risk', 'Type']\n",
    "res_df"
   ]
  },
  {
   "cell_type": "code",
   "execution_count": null,
   "id": "8a162e5c",
   "metadata": {
    "pycharm": {
     "name": "#%%\n"
    }
   },
   "outputs": [],
   "source": [
    "pd.concat([summary_df.mean(axis=1), summary_df.std(axis=1)], axis=1, keys=['Mean', 'SE'])"
   ]
  }
 ],
 "metadata": {
  "kernelspec": {
   "display_name": "Python 3 (ipykernel)",
   "language": "python",
   "name": "python3"
  },
  "language_info": {
   "codemirror_mode": {
    "name": "ipython",
    "version": 3
   },
   "file_extension": ".py",
   "mimetype": "text/x-python",
   "name": "python",
   "nbconvert_exporter": "python",
   "pygments_lexer": "ipython3",
   "version": "3.9.19"
  }
 },
 "nbformat": 4,
 "nbformat_minor": 5
}