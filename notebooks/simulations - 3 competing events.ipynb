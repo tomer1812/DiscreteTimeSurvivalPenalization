{
 "cells": [
  {
   "cell_type": "code",
   "execution_count": null,
   "metadata": {
    "pycharm": {
     "name": "#%%\n"
    }
   },
   "outputs": [],
   "source": [
    "import pandas as pd\n",
    "import numpy as np\n",
    "import os\n",
    "from time import time\n",
    "from sklearn.model_selection import train_test_split\n",
    "from pydts.examples_utils.generate_simulations_data import generate_quick_start_df\n",
    "from pydts.examples_utils.plots import plot_example_pred_output\n",
    "from pydts.examples_utils.plots import add_panel_text\n",
    "from pydts.fitters import TwoStagesFitter, DataExpansionFitter\n",
    "\n",
    "from pydts.data_generation import EventTimesSampler\n",
    "from matplotlib import pyplot as plt\n",
    "import warnings\n",
    "import pickle\n",
    "pd.set_option(\"display.max_rows\", 500)\n",
    "warnings.filterwarnings('ignore')\n",
    "%matplotlib inline\n",
    "slicer = pd.IndexSlice"
   ]
  },
  {
   "cell_type": "code",
   "execution_count": null,
   "metadata": {
    "pycharm": {
     "name": "#%%\n"
    }
   },
   "outputs": [],
   "source": [
    "OUTPUT_DIR = '/home/tomer.me/DiscreteTimeSurvivalPenalization/output'"
   ]
  },
  {
   "cell_type": "markdown",
   "metadata": {
    "pycharm": {
     "name": "#%% md\n"
    }
   },
   "source": [
    "# Sampling data"
   ]
  },
  {
   "cell_type": "code",
   "execution_count": null,
   "metadata": {
    "pycharm": {
     "name": "#%%\n"
    }
   },
   "outputs": [],
   "source": [
    "n_cov = 5\n",
    "\n",
    "real_coef_dict = {\n",
    "    \"alpha\": {\n",
    "        1: lambda t: -2.9 + 0.3 * np.log(t),\n",
    "        2: lambda t: -3 + 0.5 * np.log(t),\n",
    "        3: lambda t: -3.2 + 0.4 * np.log(t),\n",
    "\n",
    "    },\n",
    "    \"beta\": {\n",
    "        1: (-np.log([1.2, 0.9, 1.2, 0.8, 1.2])),\n",
    "        2: (-np.log([1.2, 0.8, 1.1, 1, 1.1])),\n",
    "        3: (-np.log([1.3, 0.9, 1.1, 1, 1.2])),\n",
    "    }\n",
    "}\n",
    "\n",
    "censoring_hazard_coefs = {\n",
    "    \"alpha\": {\n",
    "        0: lambda t: -4.5 + 0.5 * np.log(t),\n",
    "    },\n",
    "    \"beta\": {\n",
    "        0: (-np.log([1.2, 0.9, 1.2, 0.8, 1.2])),\n",
    "    }\n",
    "}\n",
    "\n",
    "n_patients = 25000\n",
    "d_times = 15\n",
    "j_events = 3\n",
    "\n",
    "ets = EventTimesSampler(d_times=d_times, j_event_types=j_events)\n",
    "\n",
    "seed = 0\n",
    "means_vector = np.zeros(n_cov)\n",
    "covariance_matrix = 0.4 * np.identity(n_cov)\n",
    "clip_value = 1.5\n",
    "\n",
    "covariates = [f'Z{i + 1}' for i in range(n_cov)]"
   ]
  },
  {
   "cell_type": "code",
   "execution_count": null,
   "metadata": {
    "pycharm": {
     "name": "#%%\n"
    }
   },
   "outputs": [],
   "source": [
    "covariance_matrix[1,3] = 0.2\n",
    "covariance_matrix[3,1] = 0.2\n",
    "\n",
    "covariance_matrix[2,4] = 0.3\n",
    "covariance_matrix[4,2] = 0.3\n",
    "\n",
    "covariance_matrix"
   ]
  },
  {
   "cell_type": "code",
   "execution_count": null,
   "metadata": {
    "pycharm": {
     "name": "#%%\n"
    }
   },
   "outputs": [],
   "source": [
    "print(pd.DataFrame(covariance_matrix, index=covariates, columns=covariates).to_latex())"
   ]
  },
  {
   "cell_type": "code",
   "execution_count": null,
   "metadata": {
    "pycharm": {
     "name": "#%%\n"
    }
   },
   "outputs": [],
   "source": [
    "COEF_COL = '   coef   '\n",
    "STDERR_COL = ' std err '"
   ]
  },
  {
   "cell_type": "code",
   "execution_count": null,
   "metadata": {
    "pycharm": {
     "name": "#%%\n"
    }
   },
   "outputs": [],
   "source": [
    "patients_df = pd.DataFrame(data=pd.DataFrame(data=np.random.multivariate_normal(means_vector, covariance_matrix, size=n_patients),\n",
    "                           columns=covariates))\n",
    "\n",
    "\n",
    "                           \n",
    "patients_df = ets.sample_event_times(patients_df, hazard_coefs=real_coef_dict, seed=seed)\n",
    "patients_df = ets.sample_hazard_lof_censoring(patients_df, \n",
    "                                              censoring_hazard_coefs=censoring_hazard_coefs, \n",
    "                                              seed=seed+1, \n",
    "                                              events=[0])\n",
    "patients_df = ets.update_event_or_lof(patients_df)\n",
    "\n",
    "# patients_df['X'] = patients_df['T']\n",
    "\n",
    "patients_df.index.name='pid'                 \n",
    "patients_df = patients_df.reset_index()\n",
    "\n",
    "from pydts.examples_utils.plots import plot_events_occurrence\n",
    "plot_events_occurrence(patients_df, fname=os.path.join(OUTPUT_DIR, 'competingevents3.png'))"
   ]
  },
  {
   "cell_type": "code",
   "execution_count": null,
   "metadata": {
    "pycharm": {
     "name": "#%%\n"
    }
   },
   "outputs": [],
   "source": [
    "patients_df.groupby(['X', 'J'])['pid'].count()"
   ]
  },
  {
   "cell_type": "code",
   "execution_count": null,
   "metadata": {
    "pycharm": {
     "name": "#%%\n"
    }
   },
   "outputs": [],
   "source": [
    "k_runs = 1\n",
    "\n",
    "for n_patients in [25_000]: # 5_000, 20_000, 50_000, 100_000\n",
    "    print('**************************************')\n",
    "    case = f'Sample_size_{n_patients}_3_events'\n",
    "    two_step_fit_times = []\n",
    "    lee_fit_times = []\n",
    "\n",
    "    for k in range(k_runs):\n",
    "        try:\n",
    "            # Sampling based on different seed each time\n",
    "            np.random.seed(seed+k)\n",
    "\n",
    "            # Two step fitter\n",
    "            new_fitter = TwoStagesFitter()\n",
    "            print(case)\n",
    "            print(f'Starting two-step: {k}')\n",
    "            two_step_start = time()\n",
    "            new_fitter.fit(df=patients_df.drop(['C', 'T'], axis=1), nb_workers=1)\n",
    "            two_step_end = time()\n",
    "            print(f'Finished two-step: {k}, {two_step_end-two_step_start}sec')\n",
    "\n",
    "            # Lee et al fitter\n",
    "            lee_fitter = DataExpansionFitter()\n",
    "            print(f'Starting Lee: {k}')\n",
    "            lee_start = time()\n",
    "            lee_fitter.fit(df=patients_df.drop(['C', 'T'], axis=1))\n",
    "            lee_end = time()\n",
    "            print(f'Finished lee: {k}, {lee_end-lee_start}sec')\n",
    "\n",
    "\n",
    "            lee_alpha_ser = lee_fitter.get_alpha_df().loc[:, slicer[:, [COEF_COL, STDERR_COL] ]].unstack().sort_index()\n",
    "            lee_beta_ser = lee_fitter.get_beta_SE().loc[:, slicer[:, [COEF_COL, STDERR_COL] ]].unstack().sort_index()\n",
    "\n",
    "\n",
    "            # Save results only if both fitters were successful\n",
    "            two_step_fit_times.append(two_step_end - two_step_start)\n",
    "            lee_fit_times.append(lee_end-lee_start)\n",
    "\n",
    "\n",
    "            if k == 0:\n",
    "                two_step_alpha_k_results = new_fitter.alpha_df[['J', 'X', 'alpha_jt']]\n",
    "                two_step_beta_k_results = new_fitter.get_beta_SE().unstack().to_frame()\n",
    "\n",
    "                lee_alpha_k_results = lee_alpha_ser.to_frame()\n",
    "                lee_beta_k_results = lee_beta_ser.to_frame()\n",
    "\n",
    "            else:\n",
    "                two_step_alpha_k_results = pd.concat([two_step_alpha_k_results, new_fitter.alpha_df['alpha_jt']], axis=1)\n",
    "                two_step_beta_k_results = pd.concat([two_step_beta_k_results, new_fitter.get_beta_SE().unstack()], axis=1)\n",
    "\n",
    "                lee_alpha_k_results = pd.concat([lee_alpha_k_results, lee_alpha_ser], axis=1)\n",
    "                lee_beta_k_results = pd.concat([lee_beta_k_results, lee_beta_ser], axis=1)\n",
    "\n",
    "            # Cache results\n",
    "            two_step_alpha_k_results.to_csv(os.path.join(OUTPUT_DIR, f'two_step_alpha_run_{k_runs}.csv'))\n",
    "            two_step_beta_k_results.to_csv(os.path.join(OUTPUT_DIR, f'two_step_beta_run_{k_runs}.csv'))\n",
    "            lee_alpha_k_results.to_csv(os.path.join(OUTPUT_DIR, f'lee_alpha_run_{k_runs}.csv'))\n",
    "            lee_beta_k_results.to_csv(os.path.join(OUTPUT_DIR, f'lee_beta_run_{k_runs}.csv'))\n",
    "            \n",
    "            with open(os.path.join(OUTPUT_DIR, f\"two_step_fit_times_{k_runs}\"), \"wb\") as fp: \n",
    "                pickle.dump(two_step_fit_times, fp)\n",
    "\n",
    "            with open(os.path.join(OUTPUT_DIR, f\"lee_fit_times_{k_runs}\"), \"wb\") as fp:   \n",
    "                pickle.dump(lee_fit_times, fp)\n",
    "\n",
    "        except Exception as e:\n",
    "            print(f'Failed during trial {k}')\n",
    "            print(e)\n",
    "            \n",
    "\n",
    "    two_step_alpha_k_results = two_step_alpha_k_results.set_index(['J', 'X'])\n",
    "    two_step_alpha_k_results.columns = list(range(1, 1+k_runs))\n",
    "    two_step_beta_k_results.columns = list(range(1, 1+k_runs))\n",
    "    lee_alpha_k_results.columns = list(range(1, 1+k_runs))\n",
    "    lee_beta_k_results.columns = list(range(1, 1+k_runs))\n",
    "\n",
    "\n",
    "    # Save results\n",
    "    two_step_alpha_k_results.to_csv(os.path.join(OUTPUT_DIR, f'{case}_two_step_alpha_run_{k_runs}.csv'))\n",
    "    two_step_beta_k_results.to_csv(os.path.join(OUTPUT_DIR, f'{case}_two_step_beta_run_{k_runs}.csv'))\n",
    "    lee_alpha_k_results.to_csv(os.path.join(OUTPUT_DIR, f'{case}_lee_alpha_run_{k_runs}.csv'))\n",
    "    lee_beta_k_results.to_csv(os.path.join(OUTPUT_DIR, f'{case}_lee_beta_run_{k_runs}.csv'))\n",
    "\n",
    "    with open(os.path.join(OUTPUT_DIR, f\"{case}_two_step_fit_times_{k_runs}\"), \"wb\") as fp: \n",
    "        pickle.dump(two_step_fit_times, fp)\n",
    "\n",
    "    with open(os.path.join(OUTPUT_DIR, f\"{case}_lee_fit_times_{k_runs}\"), \"wb\") as fp:   \n",
    "        pickle.dump(lee_fit_times, fp)"
   ]
  },
  {
   "cell_type": "code",
   "execution_count": null,
   "metadata": {
    "pycharm": {
     "name": "#%%\n"
    }
   },
   "outputs": [],
   "source": [
    "true_col = pd.Series((-np.log([1.2, 0.9, 1.2, 0.8, 1.2, 1.2, 0.8, 1.1, 1, 1.1, 1.3, 0.9, 1.1, 1, 1.2])),\n",
    "                     name = 'True')\n",
    "\n",
    "tmp = two_step_beta_k_results.loc[['j1_params', 'j2_params', 'j3_params'], :]\n",
    "tmp.index = lee_beta_k_results.unstack(1)[[(1, '   coef   ')]].index\n",
    "true_col.index = lee_beta_k_results.unstack(1)[[(1, '   coef   ')]].index\n",
    "tmp2 = pd.concat([true_col, lee_beta_k_results.unstack(1)[[(1, '   coef   ')]], tmp], \n",
    "                 axis=1)\n",
    "tmp2.columns=['True', 'Lee et al. Estimate', 'two-step Estimate']\n",
    "tmp2"
   ]
  },
  {
   "cell_type": "code",
   "execution_count": null,
   "metadata": {
    "pycharm": {
     "name": "#%%\n"
    }
   },
   "outputs": [],
   "source": [
    "print(tmp2.astype(float).round(3).to_latex(escape=False))"
   ]
  },
  {
   "cell_type": "code",
   "execution_count": null,
   "metadata": {
    "pycharm": {
     "name": "#%%\n"
    }
   },
   "outputs": [],
   "source": [
    "filename = 'alpha_3_events.png'\n",
    "\n",
    "first_model_name = 'Lee et al.'\n",
    "second_model_name = 'two-step'\n",
    "times = range(1, d_times+1)\n",
    "counts = patients_df.groupby(['J', 'X'])['pid'].count().unstack('J').dropna()\n",
    "\n",
    "lee_colors = ['tab:blue', 'tab:blue', 'tab:blue']\n",
    "two_step_colors = ['k', 'k', 'k']\n",
    "true_colors = ['tab:green', 'tab:green', 'tab:green']\n",
    "\n",
    "fig, axes = plt.subplots(1, 3, figsize=(15, 4))\n",
    "\n",
    "for j in range(1, j_events+1):\n",
    "    ax = axes[j-1]\n",
    "    \n",
    "    ax.tick_params(axis='y', which='major', labelsize=15)\n",
    "    ax.tick_params(axis='y', which='minor', labelsize=15)\n",
    "    ax.tick_params(axis='x', which='major', labelsize=13)\n",
    "    ax.tick_params(axis='x', which='minor', labelsize=13)\n",
    "\n",
    "    \n",
    "    tmp_alpha = lee_alpha_k_results.loc[slicer[j, COEF_COL, :]]\n",
    "    tmp_alpha.index = [int(idx.split(')[')[1].split(']')[0]) for idx in tmp_alpha.index]\n",
    "    tmp_alpha = pd.Series(tmp_alpha.values.squeeze().astype(float), index=tmp_alpha.index)\n",
    "    \n",
    "    ax.scatter(tmp_alpha.index, tmp_alpha.values,\n",
    "           label=f'J={j} ({first_model_name})', color=lee_colors[j-1], marker='o', alpha=0.4, s=40)\n",
    "\n",
    "    tmp_alpha = two_step_alpha_k_results.loc[slicer[j, :]]\n",
    "    ax.scatter(tmp_alpha.index, tmp_alpha.values.squeeze(),\n",
    "           label=f'J={j} ({second_model_name})', color=two_step_colors[j-1], marker='*', alpha=0.7, s=20)\n",
    "    \n",
    "    true_values = [real_coef_dict['alpha'][j](t) for t in times]\n",
    "    ax.plot(times, true_values, label=f'J={j} (True)', ls='--', color=true_colors[j-1])\n",
    "    ax.set_xlabel(r'Time', fontsize=18)\n",
    "    ax.set_xticks(times)\n",
    "    ax.set_xticklabels([f'{t}' for t in times])\n",
    "    if j == 1:\n",
    "        ax.set_ylabel(r'$\\alpha_{t}$', fontsize=18)\n",
    "    ax.legend(loc='upper left', fontsize=13)\n",
    "    ax.set_ylim([-3.5, -1])\n",
    "\n",
    "    ax2 = ax.twinx()\n",
    "    ax2.tick_params(axis='y', which='major', labelsize=15)\n",
    "    ax2.tick_params(axis='y', which='minor', labelsize=15)\n",
    "    ax2.tick_params(axis='x', which='major', labelsize=13)\n",
    "    ax2.tick_params(axis='x', which='minor', labelsize=13)\n",
    "    \n",
    "    ax2.bar(times, counts.loc[:, j].values, label=f'J={j}', color='tab:red', alpha=0.4, width=0.5)\n",
    "    ax2.legend(loc='upper right', fontsize=13)\n",
    "    if j == 3:\n",
    "        ax2.set_ylabel('Number of observed events', fontsize=16, color='red')\n",
    "    ax2.tick_params(axis='y', colors='red')\n",
    "    ax2.set_ylim([0, 2500])\n",
    "fig.tight_layout()\n",
    "\n",
    "if filename is not None:\n",
    "    fig.savefig(os.path.join(OUTPUT_DIR, filename), dpi=300)"
   ]
  },
  {
   "cell_type": "code",
   "execution_count": null,
   "metadata": {
    "pycharm": {
     "name": "#%%\n"
    }
   },
   "outputs": [],
   "source": []
  }
 ],
 "metadata": {
  "kernelspec": {
   "display_name": "Python 3",
   "language": "python",
   "name": "python3"
  },
  "language_info": {
   "codemirror_mode": {
    "name": "ipython",
    "version": 3
   },
   "file_extension": ".py",
   "mimetype": "text/x-python",
   "name": "python",
   "nbconvert_exporter": "python",
   "pygments_lexer": "ipython3",
   "version": "3.10.6 (main, Nov  2 2022, 18:53:38) [GCC 11.3.0]"
  },
  "vscode": {
   "interpreter": {
    "hash": "31f2aee4e71d21fbe5cf8b01ff0e069b9275f58929596ceb00d14d90e3e16cd6"
   }
  }
 },
 "nbformat": 4,
 "nbformat_minor": 2
}